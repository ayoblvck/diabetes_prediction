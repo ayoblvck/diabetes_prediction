{
 "cells": [
  {
   "cell_type": "markdown",
   "id": "bdbec8e4",
   "metadata": {},
   "source": [
    "IMPORTING VARIOUS DEPENDENCIES"
   ]
  },
  {
   "cell_type": "code",
   "execution_count": 1,
   "id": "82fa3b38",
   "metadata": {},
   "outputs": [],
   "source": [
    "import pandas as pd\n",
    "import numpy as np\n",
    "import matplotlib.pyplot as plt\n",
    "import seaborn as sns\n",
    "import shap\n",
    "from sklearn.model_selection import train_test_split\n",
    "from sklearn.preprocessing import StandardScaler\n",
    "from sklearn.linear_model import LogisticRegression\n",
    "from sklearn.tree import DecisionTreeClassifier\n",
    "from sklearn.ensemble import RandomForestClassifier\n",
    "from sklearn.svm import SVC\n",
    "from sklearn.inspection import permutation_importance\n",
    "from sklearn.preprocessing import LabelEncoder, OrdinalEncoder\n",
    "import category_encoders as ce\n",
    "from xgboost.sklearn import XGBClassifier\n",
    "from sklearn.ensemble import GradientBoostingClassifier\n",
    "from sklearn.metrics import mean_squared_error, accuracy_score, confusion_matrix, classification_report,roc_auc_score,roc_curve"
   ]
  },
  {
   "cell_type": "markdown",
   "id": "c2169013",
   "metadata": {},
   "source": [
    "# DATA LOADING AND PREPROCESSING"
   ]
  },
  {
   "cell_type": "code",
   "execution_count": 2,
   "id": "51cef41d",
   "metadata": {},
   "outputs": [
    {
     "name": "stderr",
     "output_type": "stream",
     "text": [
      "Columns (10) have mixed types.Specify dtype option on import or set low_memory=False.\n"
     ]
    }
   ],
   "source": [
    "#load diabetes readmission data to panda dataframe\n",
    "dd = pd.read_csv(\"./diabetic_data.csv\", na_values ='?')"
   ]
  },
  {
   "cell_type": "code",
   "execution_count": 3,
   "id": "39c16561",
   "metadata": {},
   "outputs": [
    {
     "data": {
      "text/html": [
       "<div>\n",
       "<style scoped>\n",
       "    .dataframe tbody tr th:only-of-type {\n",
       "        vertical-align: middle;\n",
       "    }\n",
       "\n",
       "    .dataframe tbody tr th {\n",
       "        vertical-align: top;\n",
       "    }\n",
       "\n",
       "    .dataframe thead th {\n",
       "        text-align: right;\n",
       "    }\n",
       "</style>\n",
       "<table border=\"1\" class=\"dataframe\">\n",
       "  <thead>\n",
       "    <tr style=\"text-align: right;\">\n",
       "      <th></th>\n",
       "      <th>encounter_id</th>\n",
       "      <th>patient_nbr</th>\n",
       "      <th>race</th>\n",
       "      <th>gender</th>\n",
       "      <th>age</th>\n",
       "      <th>weight</th>\n",
       "      <th>admission_type_id</th>\n",
       "      <th>discharge_disposition_id</th>\n",
       "      <th>admission_source_id</th>\n",
       "      <th>time_in_hospital</th>\n",
       "      <th>...</th>\n",
       "      <th>citoglipton</th>\n",
       "      <th>insulin</th>\n",
       "      <th>glyburide-metformin</th>\n",
       "      <th>glipizide-metformin</th>\n",
       "      <th>glimepiride-pioglitazone</th>\n",
       "      <th>metformin-rosiglitazone</th>\n",
       "      <th>metformin-pioglitazone</th>\n",
       "      <th>change</th>\n",
       "      <th>diabetesMed</th>\n",
       "      <th>readmitted</th>\n",
       "    </tr>\n",
       "  </thead>\n",
       "  <tbody>\n",
       "    <tr>\n",
       "      <th>0</th>\n",
       "      <td>2278392</td>\n",
       "      <td>8222157</td>\n",
       "      <td>Caucasian</td>\n",
       "      <td>Female</td>\n",
       "      <td>[0-10)</td>\n",
       "      <td>NaN</td>\n",
       "      <td>6</td>\n",
       "      <td>25</td>\n",
       "      <td>1</td>\n",
       "      <td>1</td>\n",
       "      <td>...</td>\n",
       "      <td>No</td>\n",
       "      <td>No</td>\n",
       "      <td>No</td>\n",
       "      <td>No</td>\n",
       "      <td>No</td>\n",
       "      <td>No</td>\n",
       "      <td>No</td>\n",
       "      <td>No</td>\n",
       "      <td>No</td>\n",
       "      <td>NO</td>\n",
       "    </tr>\n",
       "    <tr>\n",
       "      <th>1</th>\n",
       "      <td>149190</td>\n",
       "      <td>55629189</td>\n",
       "      <td>Caucasian</td>\n",
       "      <td>Female</td>\n",
       "      <td>[10-20)</td>\n",
       "      <td>NaN</td>\n",
       "      <td>1</td>\n",
       "      <td>1</td>\n",
       "      <td>7</td>\n",
       "      <td>3</td>\n",
       "      <td>...</td>\n",
       "      <td>No</td>\n",
       "      <td>Up</td>\n",
       "      <td>No</td>\n",
       "      <td>No</td>\n",
       "      <td>No</td>\n",
       "      <td>No</td>\n",
       "      <td>No</td>\n",
       "      <td>Ch</td>\n",
       "      <td>Yes</td>\n",
       "      <td>&gt;30</td>\n",
       "    </tr>\n",
       "    <tr>\n",
       "      <th>2</th>\n",
       "      <td>64410</td>\n",
       "      <td>86047875</td>\n",
       "      <td>AfricanAmerican</td>\n",
       "      <td>Female</td>\n",
       "      <td>[20-30)</td>\n",
       "      <td>NaN</td>\n",
       "      <td>1</td>\n",
       "      <td>1</td>\n",
       "      <td>7</td>\n",
       "      <td>2</td>\n",
       "      <td>...</td>\n",
       "      <td>No</td>\n",
       "      <td>No</td>\n",
       "      <td>No</td>\n",
       "      <td>No</td>\n",
       "      <td>No</td>\n",
       "      <td>No</td>\n",
       "      <td>No</td>\n",
       "      <td>No</td>\n",
       "      <td>Yes</td>\n",
       "      <td>NO</td>\n",
       "    </tr>\n",
       "    <tr>\n",
       "      <th>3</th>\n",
       "      <td>500364</td>\n",
       "      <td>82442376</td>\n",
       "      <td>Caucasian</td>\n",
       "      <td>Male</td>\n",
       "      <td>[30-40)</td>\n",
       "      <td>NaN</td>\n",
       "      <td>1</td>\n",
       "      <td>1</td>\n",
       "      <td>7</td>\n",
       "      <td>2</td>\n",
       "      <td>...</td>\n",
       "      <td>No</td>\n",
       "      <td>Up</td>\n",
       "      <td>No</td>\n",
       "      <td>No</td>\n",
       "      <td>No</td>\n",
       "      <td>No</td>\n",
       "      <td>No</td>\n",
       "      <td>Ch</td>\n",
       "      <td>Yes</td>\n",
       "      <td>NO</td>\n",
       "    </tr>\n",
       "    <tr>\n",
       "      <th>4</th>\n",
       "      <td>16680</td>\n",
       "      <td>42519267</td>\n",
       "      <td>Caucasian</td>\n",
       "      <td>Male</td>\n",
       "      <td>[40-50)</td>\n",
       "      <td>NaN</td>\n",
       "      <td>1</td>\n",
       "      <td>1</td>\n",
       "      <td>7</td>\n",
       "      <td>1</td>\n",
       "      <td>...</td>\n",
       "      <td>No</td>\n",
       "      <td>Steady</td>\n",
       "      <td>No</td>\n",
       "      <td>No</td>\n",
       "      <td>No</td>\n",
       "      <td>No</td>\n",
       "      <td>No</td>\n",
       "      <td>Ch</td>\n",
       "      <td>Yes</td>\n",
       "      <td>NO</td>\n",
       "    </tr>\n",
       "  </tbody>\n",
       "</table>\n",
       "<p>5 rows × 50 columns</p>\n",
       "</div>"
      ],
      "text/plain": [
       "   encounter_id  patient_nbr             race  gender      age weight  \\\n",
       "0       2278392      8222157        Caucasian  Female   [0-10)    NaN   \n",
       "1        149190     55629189        Caucasian  Female  [10-20)    NaN   \n",
       "2         64410     86047875  AfricanAmerican  Female  [20-30)    NaN   \n",
       "3        500364     82442376        Caucasian    Male  [30-40)    NaN   \n",
       "4         16680     42519267        Caucasian    Male  [40-50)    NaN   \n",
       "\n",
       "   admission_type_id  discharge_disposition_id  admission_source_id  \\\n",
       "0                  6                        25                    1   \n",
       "1                  1                         1                    7   \n",
       "2                  1                         1                    7   \n",
       "3                  1                         1                    7   \n",
       "4                  1                         1                    7   \n",
       "\n",
       "   time_in_hospital  ... citoglipton insulin  glyburide-metformin  \\\n",
       "0                 1  ...          No      No                   No   \n",
       "1                 3  ...          No      Up                   No   \n",
       "2                 2  ...          No      No                   No   \n",
       "3                 2  ...          No      Up                   No   \n",
       "4                 1  ...          No  Steady                   No   \n",
       "\n",
       "   glipizide-metformin  glimepiride-pioglitazone  metformin-rosiglitazone  \\\n",
       "0                   No                        No                       No   \n",
       "1                   No                        No                       No   \n",
       "2                   No                        No                       No   \n",
       "3                   No                        No                       No   \n",
       "4                   No                        No                       No   \n",
       "\n",
       "   metformin-pioglitazone  change diabetesMed readmitted  \n",
       "0                      No      No          No         NO  \n",
       "1                      No      Ch         Yes        >30  \n",
       "2                      No      No         Yes         NO  \n",
       "3                      No      Ch         Yes         NO  \n",
       "4                      No      Ch         Yes         NO  \n",
       "\n",
       "[5 rows x 50 columns]"
      ]
     },
     "execution_count": 3,
     "metadata": {},
     "output_type": "execute_result"
    }
   ],
   "source": [
    "#Print first 5 columns\n",
    "dd.head()"
   ]
  },
  {
   "cell_type": "code",
   "execution_count": 4,
   "id": "1ef6f22f",
   "metadata": {},
   "outputs": [
    {
     "data": {
      "text/plain": [
       "(101766, 50)"
      ]
     },
     "execution_count": 4,
     "metadata": {},
     "output_type": "execute_result"
    }
   ],
   "source": [
    "#Print data shape\n",
    "dd.shape"
   ]
  },
  {
   "cell_type": "code",
   "execution_count": 5,
   "id": "24a712ed",
   "metadata": {},
   "outputs": [
    {
     "name": "stdout",
     "output_type": "stream",
     "text": [
      "<class 'pandas.core.frame.DataFrame'>\n",
      "RangeIndex: 101766 entries, 0 to 101765\n",
      "Data columns (total 50 columns):\n",
      " #   Column                    Non-Null Count   Dtype \n",
      "---  ------                    --------------   ----- \n",
      " 0   encounter_id              101766 non-null  int64 \n",
      " 1   patient_nbr               101766 non-null  int64 \n",
      " 2   race                      99493 non-null   object\n",
      " 3   gender                    101766 non-null  object\n",
      " 4   age                       101766 non-null  object\n",
      " 5   weight                    3197 non-null    object\n",
      " 6   admission_type_id         101766 non-null  int64 \n",
      " 7   discharge_disposition_id  101766 non-null  int64 \n",
      " 8   admission_source_id       101766 non-null  int64 \n",
      " 9   time_in_hospital          101766 non-null  int64 \n",
      " 10  payer_code                61510 non-null   object\n",
      " 11  medical_specialty         51817 non-null   object\n",
      " 12  num_lab_procedures        101766 non-null  int64 \n",
      " 13  num_procedures            101766 non-null  int64 \n",
      " 14  num_medications           101766 non-null  int64 \n",
      " 15  number_outpatient         101766 non-null  int64 \n",
      " 16  number_emergency          101766 non-null  int64 \n",
      " 17  number_inpatient          101766 non-null  int64 \n",
      " 18  diag_1                    101745 non-null  object\n",
      " 19  diag_2                    101408 non-null  object\n",
      " 20  diag_3                    100343 non-null  object\n",
      " 21  number_diagnoses          101766 non-null  int64 \n",
      " 22  max_glu_serum             101766 non-null  object\n",
      " 23  A1Cresult                 101766 non-null  object\n",
      " 24  metformin                 101766 non-null  object\n",
      " 25  repaglinide               101766 non-null  object\n",
      " 26  nateglinide               101766 non-null  object\n",
      " 27  chlorpropamide            101766 non-null  object\n",
      " 28  glimepiride               101766 non-null  object\n",
      " 29  acetohexamide             101766 non-null  object\n",
      " 30  glipizide                 101766 non-null  object\n",
      " 31  glyburide                 101766 non-null  object\n",
      " 32  tolbutamide               101766 non-null  object\n",
      " 33  pioglitazone              101766 non-null  object\n",
      " 34  rosiglitazone             101766 non-null  object\n",
      " 35  acarbose                  101766 non-null  object\n",
      " 36  miglitol                  101766 non-null  object\n",
      " 37  troglitazone              101766 non-null  object\n",
      " 38  tolazamide                101766 non-null  object\n",
      " 39  examide                   101766 non-null  object\n",
      " 40  citoglipton               101766 non-null  object\n",
      " 41  insulin                   101766 non-null  object\n",
      " 42  glyburide-metformin       101766 non-null  object\n",
      " 43  glipizide-metformin       101766 non-null  object\n",
      " 44  glimepiride-pioglitazone  101766 non-null  object\n",
      " 45  metformin-rosiglitazone   101766 non-null  object\n",
      " 46  metformin-pioglitazone    101766 non-null  object\n",
      " 47  change                    101766 non-null  object\n",
      " 48  diabetesMed               101766 non-null  object\n",
      " 49  readmitted                101766 non-null  object\n",
      "dtypes: int64(13), object(37)\n",
      "memory usage: 38.8+ MB\n"
     ]
    }
   ],
   "source": [
    "#Get Data Information\n",
    "dd.info()"
   ]
  },
  {
   "cell_type": "code",
   "execution_count": 6,
   "id": "46aece95",
   "metadata": {},
   "outputs": [
    {
     "data": {
      "text/plain": [
       "Index(['encounter_id', 'patient_nbr', 'race', 'gender', 'age', 'weight',\n",
       "       'admission_type_id', 'discharge_disposition_id', 'admission_source_id',\n",
       "       'time_in_hospital', 'payer_code', 'medical_specialty',\n",
       "       'num_lab_procedures', 'num_procedures', 'num_medications',\n",
       "       'number_outpatient', 'number_emergency', 'number_inpatient', 'diag_1',\n",
       "       'diag_2', 'diag_3', 'number_diagnoses', 'max_glu_serum', 'A1Cresult',\n",
       "       'metformin', 'repaglinide', 'nateglinide', 'chlorpropamide',\n",
       "       'glimepiride', 'acetohexamide', 'glipizide', 'glyburide', 'tolbutamide',\n",
       "       'pioglitazone', 'rosiglitazone', 'acarbose', 'miglitol', 'troglitazone',\n",
       "       'tolazamide', 'examide', 'citoglipton', 'insulin',\n",
       "       'glyburide-metformin', 'glipizide-metformin',\n",
       "       'glimepiride-pioglitazone', 'metformin-rosiglitazone',\n",
       "       'metformin-pioglitazone', 'change', 'diabetesMed', 'readmitted'],\n",
       "      dtype='object')"
      ]
     },
     "execution_count": 6,
     "metadata": {},
     "output_type": "execute_result"
    }
   ],
   "source": [
    "#list of all columns\n",
    "dd.columns"
   ]
  },
  {
   "cell_type": "code",
   "execution_count": 7,
   "id": "8230ce1f",
   "metadata": {},
   "outputs": [
    {
     "data": {
      "text/html": [
       "<div>\n",
       "<style scoped>\n",
       "    .dataframe tbody tr th:only-of-type {\n",
       "        vertical-align: middle;\n",
       "    }\n",
       "\n",
       "    .dataframe tbody tr th {\n",
       "        vertical-align: top;\n",
       "    }\n",
       "\n",
       "    .dataframe thead th {\n",
       "        text-align: right;\n",
       "    }\n",
       "</style>\n",
       "<table border=\"1\" class=\"dataframe\">\n",
       "  <thead>\n",
       "    <tr style=\"text-align: right;\">\n",
       "      <th></th>\n",
       "      <th>encounter_id</th>\n",
       "      <th>patient_nbr</th>\n",
       "      <th>admission_type_id</th>\n",
       "      <th>discharge_disposition_id</th>\n",
       "      <th>admission_source_id</th>\n",
       "      <th>time_in_hospital</th>\n",
       "      <th>num_lab_procedures</th>\n",
       "      <th>num_procedures</th>\n",
       "      <th>num_medications</th>\n",
       "      <th>number_outpatient</th>\n",
       "      <th>number_emergency</th>\n",
       "      <th>number_inpatient</th>\n",
       "      <th>number_diagnoses</th>\n",
       "    </tr>\n",
       "  </thead>\n",
       "  <tbody>\n",
       "    <tr>\n",
       "      <th>count</th>\n",
       "      <td>1.017660e+05</td>\n",
       "      <td>1.017660e+05</td>\n",
       "      <td>101766.000000</td>\n",
       "      <td>101766.000000</td>\n",
       "      <td>101766.000000</td>\n",
       "      <td>101766.000000</td>\n",
       "      <td>101766.000000</td>\n",
       "      <td>101766.000000</td>\n",
       "      <td>101766.000000</td>\n",
       "      <td>101766.000000</td>\n",
       "      <td>101766.000000</td>\n",
       "      <td>101766.000000</td>\n",
       "      <td>101766.000000</td>\n",
       "    </tr>\n",
       "    <tr>\n",
       "      <th>mean</th>\n",
       "      <td>1.652016e+08</td>\n",
       "      <td>5.433040e+07</td>\n",
       "      <td>2.024006</td>\n",
       "      <td>3.715642</td>\n",
       "      <td>5.754437</td>\n",
       "      <td>4.395987</td>\n",
       "      <td>43.095641</td>\n",
       "      <td>1.339730</td>\n",
       "      <td>16.021844</td>\n",
       "      <td>0.369357</td>\n",
       "      <td>0.197836</td>\n",
       "      <td>0.635566</td>\n",
       "      <td>7.422607</td>\n",
       "    </tr>\n",
       "    <tr>\n",
       "      <th>std</th>\n",
       "      <td>1.026403e+08</td>\n",
       "      <td>3.869636e+07</td>\n",
       "      <td>1.445403</td>\n",
       "      <td>5.280166</td>\n",
       "      <td>4.064081</td>\n",
       "      <td>2.985108</td>\n",
       "      <td>19.674362</td>\n",
       "      <td>1.705807</td>\n",
       "      <td>8.127566</td>\n",
       "      <td>1.267265</td>\n",
       "      <td>0.930472</td>\n",
       "      <td>1.262863</td>\n",
       "      <td>1.933600</td>\n",
       "    </tr>\n",
       "    <tr>\n",
       "      <th>min</th>\n",
       "      <td>1.252200e+04</td>\n",
       "      <td>1.350000e+02</td>\n",
       "      <td>1.000000</td>\n",
       "      <td>1.000000</td>\n",
       "      <td>1.000000</td>\n",
       "      <td>1.000000</td>\n",
       "      <td>1.000000</td>\n",
       "      <td>0.000000</td>\n",
       "      <td>1.000000</td>\n",
       "      <td>0.000000</td>\n",
       "      <td>0.000000</td>\n",
       "      <td>0.000000</td>\n",
       "      <td>1.000000</td>\n",
       "    </tr>\n",
       "    <tr>\n",
       "      <th>25%</th>\n",
       "      <td>8.496119e+07</td>\n",
       "      <td>2.341322e+07</td>\n",
       "      <td>1.000000</td>\n",
       "      <td>1.000000</td>\n",
       "      <td>1.000000</td>\n",
       "      <td>2.000000</td>\n",
       "      <td>31.000000</td>\n",
       "      <td>0.000000</td>\n",
       "      <td>10.000000</td>\n",
       "      <td>0.000000</td>\n",
       "      <td>0.000000</td>\n",
       "      <td>0.000000</td>\n",
       "      <td>6.000000</td>\n",
       "    </tr>\n",
       "    <tr>\n",
       "      <th>50%</th>\n",
       "      <td>1.523890e+08</td>\n",
       "      <td>4.550514e+07</td>\n",
       "      <td>1.000000</td>\n",
       "      <td>1.000000</td>\n",
       "      <td>7.000000</td>\n",
       "      <td>4.000000</td>\n",
       "      <td>44.000000</td>\n",
       "      <td>1.000000</td>\n",
       "      <td>15.000000</td>\n",
       "      <td>0.000000</td>\n",
       "      <td>0.000000</td>\n",
       "      <td>0.000000</td>\n",
       "      <td>8.000000</td>\n",
       "    </tr>\n",
       "    <tr>\n",
       "      <th>75%</th>\n",
       "      <td>2.302709e+08</td>\n",
       "      <td>8.754595e+07</td>\n",
       "      <td>3.000000</td>\n",
       "      <td>4.000000</td>\n",
       "      <td>7.000000</td>\n",
       "      <td>6.000000</td>\n",
       "      <td>57.000000</td>\n",
       "      <td>2.000000</td>\n",
       "      <td>20.000000</td>\n",
       "      <td>0.000000</td>\n",
       "      <td>0.000000</td>\n",
       "      <td>1.000000</td>\n",
       "      <td>9.000000</td>\n",
       "    </tr>\n",
       "    <tr>\n",
       "      <th>max</th>\n",
       "      <td>4.438672e+08</td>\n",
       "      <td>1.895026e+08</td>\n",
       "      <td>8.000000</td>\n",
       "      <td>28.000000</td>\n",
       "      <td>25.000000</td>\n",
       "      <td>14.000000</td>\n",
       "      <td>132.000000</td>\n",
       "      <td>6.000000</td>\n",
       "      <td>81.000000</td>\n",
       "      <td>42.000000</td>\n",
       "      <td>76.000000</td>\n",
       "      <td>21.000000</td>\n",
       "      <td>16.000000</td>\n",
       "    </tr>\n",
       "  </tbody>\n",
       "</table>\n",
       "</div>"
      ],
      "text/plain": [
       "       encounter_id   patient_nbr  admission_type_id  \\\n",
       "count  1.017660e+05  1.017660e+05      101766.000000   \n",
       "mean   1.652016e+08  5.433040e+07           2.024006   \n",
       "std    1.026403e+08  3.869636e+07           1.445403   \n",
       "min    1.252200e+04  1.350000e+02           1.000000   \n",
       "25%    8.496119e+07  2.341322e+07           1.000000   \n",
       "50%    1.523890e+08  4.550514e+07           1.000000   \n",
       "75%    2.302709e+08  8.754595e+07           3.000000   \n",
       "max    4.438672e+08  1.895026e+08           8.000000   \n",
       "\n",
       "       discharge_disposition_id  admission_source_id  time_in_hospital  \\\n",
       "count             101766.000000        101766.000000     101766.000000   \n",
       "mean                   3.715642             5.754437          4.395987   \n",
       "std                    5.280166             4.064081          2.985108   \n",
       "min                    1.000000             1.000000          1.000000   \n",
       "25%                    1.000000             1.000000          2.000000   \n",
       "50%                    1.000000             7.000000          4.000000   \n",
       "75%                    4.000000             7.000000          6.000000   \n",
       "max                   28.000000            25.000000         14.000000   \n",
       "\n",
       "       num_lab_procedures  num_procedures  num_medications  number_outpatient  \\\n",
       "count       101766.000000   101766.000000    101766.000000      101766.000000   \n",
       "mean            43.095641        1.339730        16.021844           0.369357   \n",
       "std             19.674362        1.705807         8.127566           1.267265   \n",
       "min              1.000000        0.000000         1.000000           0.000000   \n",
       "25%             31.000000        0.000000        10.000000           0.000000   \n",
       "50%             44.000000        1.000000        15.000000           0.000000   \n",
       "75%             57.000000        2.000000        20.000000           0.000000   \n",
       "max            132.000000        6.000000        81.000000          42.000000   \n",
       "\n",
       "       number_emergency  number_inpatient  number_diagnoses  \n",
       "count     101766.000000     101766.000000     101766.000000  \n",
       "mean           0.197836          0.635566          7.422607  \n",
       "std            0.930472          1.262863          1.933600  \n",
       "min            0.000000          0.000000          1.000000  \n",
       "25%            0.000000          0.000000          6.000000  \n",
       "50%            0.000000          0.000000          8.000000  \n",
       "75%            0.000000          1.000000          9.000000  \n",
       "max           76.000000         21.000000         16.000000  "
      ]
     },
     "execution_count": 7,
     "metadata": {},
     "output_type": "execute_result"
    }
   ],
   "source": [
    "#Statistical description of each columns\n",
    "dd.describe()"
   ]
  },
  {
   "cell_type": "code",
   "execution_count": 8,
   "id": "9fcaa115",
   "metadata": {},
   "outputs": [
    {
     "data": {
      "text/plain": [
       "encounter_id                    0\n",
       "patient_nbr                     0\n",
       "race                         2273\n",
       "gender                          0\n",
       "age                             0\n",
       "weight                      98569\n",
       "admission_type_id               0\n",
       "discharge_disposition_id        0\n",
       "admission_source_id             0\n",
       "time_in_hospital                0\n",
       "payer_code                  40256\n",
       "medical_specialty           49949\n",
       "num_lab_procedures              0\n",
       "num_procedures                  0\n",
       "num_medications                 0\n",
       "number_outpatient               0\n",
       "number_emergency                0\n",
       "number_inpatient                0\n",
       "diag_1                         21\n",
       "diag_2                        358\n",
       "diag_3                       1423\n",
       "number_diagnoses                0\n",
       "max_glu_serum                   0\n",
       "A1Cresult                       0\n",
       "metformin                       0\n",
       "repaglinide                     0\n",
       "nateglinide                     0\n",
       "chlorpropamide                  0\n",
       "glimepiride                     0\n",
       "acetohexamide                   0\n",
       "glipizide                       0\n",
       "glyburide                       0\n",
       "tolbutamide                     0\n",
       "pioglitazone                    0\n",
       "rosiglitazone                   0\n",
       "acarbose                        0\n",
       "miglitol                        0\n",
       "troglitazone                    0\n",
       "tolazamide                      0\n",
       "examide                         0\n",
       "citoglipton                     0\n",
       "insulin                         0\n",
       "glyburide-metformin             0\n",
       "glipizide-metformin             0\n",
       "glimepiride-pioglitazone        0\n",
       "metformin-rosiglitazone         0\n",
       "metformin-pioglitazone          0\n",
       "change                          0\n",
       "diabetesMed                     0\n",
       "readmitted                      0\n",
       "dtype: int64"
      ]
     },
     "execution_count": 8,
     "metadata": {},
     "output_type": "execute_result"
    }
   ],
   "source": [
    "#Check missing values in the categorical columns\n",
    "dd.isnull().sum()"
   ]
  },
  {
   "cell_type": "code",
   "execution_count": 9,
   "id": "f1585631",
   "metadata": {
    "scrolled": true
   },
   "outputs": [
    {
     "name": "stdout",
     "output_type": "stream",
     "text": [
      "gender 3\n"
     ]
    }
   ],
   "source": [
    "#calculating the number of missing values (unknown/invalid) in 'gender' \n",
    "print('gender', dd['gender'][dd['gender'] == 'Unknown/Invalid'].count())"
   ]
  },
  {
   "cell_type": "markdown",
   "id": "63955f36",
   "metadata": {},
   "source": [
    "handling missing values"
   ]
  },
  {
   "cell_type": "code",
   "execution_count": 10,
   "id": "25ac3760",
   "metadata": {},
   "outputs": [],
   "source": [
    "#drop columns with missing values greater than 45%\n",
    "dd = dd.drop(['weight','payer_code','medical_specialty'], axis = 1)"
   ]
  },
  {
   "cell_type": "code",
   "execution_count": 11,
   "id": "9d05c78e",
   "metadata": {},
   "outputs": [],
   "source": [
    "#drop columns with one value occuring in more than 90%\n",
    "dd = dd.drop(['repaglinide', 'nateglinide',\n",
    "       'chlorpropamide', 'glimepiride', 'acetohexamide', 'glipizide',\n",
    "       'glyburide', 'tolbutamide', 'pioglitazone', 'rosiglitazone', 'acarbose',\n",
    "       'miglitol', 'troglitazone', 'tolazamide', 'examide', 'citoglipton', 'glyburide-metformin', 'glipizide-metformin',\n",
    "       'glimepiride-pioglitazone', 'metformin-rosiglitazone',\n",
    "       'metformin-pioglitazone'],axis =1)"
   ]
  },
  {
   "cell_type": "code",
   "execution_count": 12,
   "id": "47432050",
   "metadata": {
    "scrolled": true
   },
   "outputs": [
    {
     "name": "stdout",
     "output_type": "stream",
     "text": [
      "<class 'pandas.core.frame.DataFrame'>\n",
      "RangeIndex: 101766 entries, 0 to 101765\n",
      "Data columns (total 26 columns):\n",
      " #   Column                    Non-Null Count   Dtype \n",
      "---  ------                    --------------   ----- \n",
      " 0   encounter_id              101766 non-null  int64 \n",
      " 1   patient_nbr               101766 non-null  int64 \n",
      " 2   race                      99493 non-null   object\n",
      " 3   gender                    101766 non-null  object\n",
      " 4   age                       101766 non-null  object\n",
      " 5   admission_type_id         101766 non-null  int64 \n",
      " 6   discharge_disposition_id  101766 non-null  int64 \n",
      " 7   admission_source_id       101766 non-null  int64 \n",
      " 8   time_in_hospital          101766 non-null  int64 \n",
      " 9   num_lab_procedures        101766 non-null  int64 \n",
      " 10  num_procedures            101766 non-null  int64 \n",
      " 11  num_medications           101766 non-null  int64 \n",
      " 12  number_outpatient         101766 non-null  int64 \n",
      " 13  number_emergency          101766 non-null  int64 \n",
      " 14  number_inpatient          101766 non-null  int64 \n",
      " 15  diag_1                    101745 non-null  object\n",
      " 16  diag_2                    101408 non-null  object\n",
      " 17  diag_3                    100343 non-null  object\n",
      " 18  number_diagnoses          101766 non-null  int64 \n",
      " 19  max_glu_serum             101766 non-null  object\n",
      " 20  A1Cresult                 101766 non-null  object\n",
      " 21  metformin                 101766 non-null  object\n",
      " 22  insulin                   101766 non-null  object\n",
      " 23  change                    101766 non-null  object\n",
      " 24  diabetesMed               101766 non-null  object\n",
      " 25  readmitted                101766 non-null  object\n",
      "dtypes: int64(13), object(13)\n",
      "memory usage: 20.2+ MB\n"
     ]
    }
   ],
   "source": [
    "#info of new dataset\n",
    "dd.info()"
   ]
  },
  {
   "cell_type": "code",
   "execution_count": 13,
   "id": "09b23f19",
   "metadata": {},
   "outputs": [],
   "source": [
    "#remove missing instances in race and gender\n",
    "dd = dd.dropna( how='any', subset=['race'])\n",
    "dd.drop(dd[dd['gender'] == \"Unknown/Invalid\"].index, inplace = True)"
   ]
  },
  {
   "cell_type": "code",
   "execution_count": 14,
   "id": "412a3849",
   "metadata": {},
   "outputs": [],
   "source": [
    "#drop diag_1, diag_2, diag_3\n",
    "dd = dd.drop(['diag_1','diag_2','diag_3'], axis = 1)"
   ]
  },
  {
   "cell_type": "code",
   "execution_count": 15,
   "id": "b11cd5f5",
   "metadata": {},
   "outputs": [
    {
     "name": "stdout",
     "output_type": "stream",
     "text": [
      "False\n"
     ]
    }
   ],
   "source": [
    "#checkifanymissingvalueisleft\n",
    "print (dd.isnull().values.any())"
   ]
  },
  {
   "cell_type": "code",
   "execution_count": 16,
   "id": "8abef48f",
   "metadata": {},
   "outputs": [
    {
     "name": "stdout",
     "output_type": "stream",
     "text": [
      "gender 0\n"
     ]
    }
   ],
   "source": [
    "#check if missing value left in gender\n",
    "print('gender', dd['gender'][dd['gender'] == 'Unknown/Invalid'].count())  "
   ]
  },
  {
   "cell_type": "code",
   "execution_count": 17,
   "id": "6eab6ffe",
   "metadata": {},
   "outputs": [
    {
     "name": "stdout",
     "output_type": "stream",
     "text": [
      "<class 'pandas.core.frame.DataFrame'>\n",
      "Int64Index: 99492 entries, 0 to 101765\n",
      "Data columns (total 23 columns):\n",
      " #   Column                    Non-Null Count  Dtype \n",
      "---  ------                    --------------  ----- \n",
      " 0   encounter_id              99492 non-null  int64 \n",
      " 1   patient_nbr               99492 non-null  int64 \n",
      " 2   race                      99492 non-null  object\n",
      " 3   gender                    99492 non-null  object\n",
      " 4   age                       99492 non-null  object\n",
      " 5   admission_type_id         99492 non-null  int64 \n",
      " 6   discharge_disposition_id  99492 non-null  int64 \n",
      " 7   admission_source_id       99492 non-null  int64 \n",
      " 8   time_in_hospital          99492 non-null  int64 \n",
      " 9   num_lab_procedures        99492 non-null  int64 \n",
      " 10  num_procedures            99492 non-null  int64 \n",
      " 11  num_medications           99492 non-null  int64 \n",
      " 12  number_outpatient         99492 non-null  int64 \n",
      " 13  number_emergency          99492 non-null  int64 \n",
      " 14  number_inpatient          99492 non-null  int64 \n",
      " 15  number_diagnoses          99492 non-null  int64 \n",
      " 16  max_glu_serum             99492 non-null  object\n",
      " 17  A1Cresult                 99492 non-null  object\n",
      " 18  metformin                 99492 non-null  object\n",
      " 19  insulin                   99492 non-null  object\n",
      " 20  change                    99492 non-null  object\n",
      " 21  diabetesMed               99492 non-null  object\n",
      " 22  readmitted                99492 non-null  object\n",
      "dtypes: int64(13), object(10)\n",
      "memory usage: 18.2+ MB\n"
     ]
    }
   ],
   "source": [
    "dd.info()"
   ]
  },
  {
   "cell_type": "code",
   "execution_count": 18,
   "id": "454da376",
   "metadata": {},
   "outputs": [],
   "source": [
    "#encode some features to binary\n",
    "dd['A1Cresult'] = dd['A1Cresult'].replace('>7', 1)\n",
    "dd['A1Cresult'] = dd['A1Cresult'].replace('>8', 1)\n",
    "dd['A1Cresult'] = dd['A1Cresult'].replace('Norm', 0)\n",
    "dd['A1Cresult'] = dd['A1Cresult'].replace('None', -99)\n",
    "dd['max_glu_serum'] = dd['max_glu_serum'].replace('>200', 1)\n",
    "dd['max_glu_serum'] = dd['max_glu_serum'].replace('>300', 1)\n",
    "dd['max_glu_serum'] = dd['max_glu_serum'].replace('Norm', 0)\n",
    "dd['max_glu_serum'] = dd['max_glu_serum'].replace('None', -99)"
   ]
  },
  {
   "cell_type": "code",
   "execution_count": 19,
   "id": "e7ea0c5f",
   "metadata": {},
   "outputs": [],
   "source": [
    "#binary conversion cont\n",
    "dd['change'] = dd['change'].replace('Ch', 1)\n",
    "dd['change'] = dd['change'].replace('No', 0)\n",
    "dd['gender'] = dd['gender'].replace('Male', 1)\n",
    "dd['gender'] = dd['gender'].replace('Female', 0)\n",
    "dd['diabetesMed'] = dd['diabetesMed'].replace('Yes', 1)\n",
    "dd['diabetesMed'] = dd['diabetesMed'].replace('No', 0)\n",
    "\n",
    "# keys is the same as before\n",
    "for col in dd.columns:\n",
    "    dd[col] = dd[col].replace('No', 0)\n",
    "    dd[col] = dd[col].replace('Steady', 1)\n",
    "    dd[col] = dd[col].replace('Up', 1)\n",
    "    dd[col] = dd[col].replace('Down', 1)"
   ]
  },
  {
   "cell_type": "code",
   "execution_count": 20,
   "id": "64bbd5ce",
   "metadata": {},
   "outputs": [],
   "source": [
    "#Encode the race column\n",
    "encoder = LabelEncoder()\n",
    "dd[\"race\"] = encoder.fit_transform(dd[\"race\"])"
   ]
  },
  {
   "cell_type": "code",
   "execution_count": 21,
   "id": "e0ba48dd",
   "metadata": {},
   "outputs": [],
   "source": [
    "#Reduce the ages to midpoint value\n",
    "\n",
    "dd['age'] = dd['age'].replace(\"[0-10)\",5)\n",
    "dd['age'] = dd['age'].replace(\"[10-20)\",15)\n",
    "dd['age'] = dd['age'].replace(\"[20-30)\",25)\n",
    "dd['age'] = dd['age'].replace(\"[30-40)\",35)\n",
    "dd['age'] = dd['age'].replace(\"[40-50)\",45)\n",
    "dd['age'] = dd['age'].replace(\"[50-60)\",55)\n",
    "dd['age'] = dd['age'].replace(\"[60-70)\",65)\n",
    "dd['age'] = dd['age'].replace(\"[70-80)\",75)\n",
    "dd['age'] = dd['age'].replace(\"[80-90)\",85)\n",
    "dd['age'] = dd['age'].replace(\"[90-100)\",95)\n",
    "\n",
    "                            "
   ]
  },
  {
   "cell_type": "code",
   "execution_count": 22,
   "id": "563e473b",
   "metadata": {},
   "outputs": [
    {
     "data": {
      "text/plain": [
       "(70442, 55)"
      ]
     },
     "execution_count": 22,
     "metadata": {},
     "output_type": "execute_result"
    }
   ],
   "source": [
    "#remove duplicates using the 'patient_nbr'\n",
    "df = dd.drop_duplicates(subset= ['patient_nbr'], keep = 'first')\n",
    "df.shape\n",
    "(70442, 55)"
   ]
  },
  {
   "cell_type": "code",
   "execution_count": 23,
   "id": "b924f8a7",
   "metadata": {},
   "outputs": [
    {
     "data": {
      "text/plain": [
       "NO     41666\n",
       ">30    21834\n",
       "<30     6167\n",
       "Name: readmitted, dtype: int64"
      ]
     },
     "execution_count": 23,
     "metadata": {},
     "output_type": "execute_result"
    }
   ],
   "source": [
    "df['readmitted'].value_counts()"
   ]
  },
  {
   "cell_type": "code",
   "execution_count": 24,
   "id": "ebf8ae56",
   "metadata": {},
   "outputs": [
    {
     "name": "stderr",
     "output_type": "stream",
     "text": [
      "\n",
      "A value is trying to be set on a copy of a slice from a DataFrame.\n",
      "Try using .loc[row_indexer,col_indexer] = value instead\n",
      "\n",
      "See the caveats in the documentation: https://pandas.pydata.org/pandas-docs/stable/user_guide/indexing.html#returning-a-view-versus-a-copy\n",
      "\n",
      "A value is trying to be set on a copy of a slice from a DataFrame.\n",
      "Try using .loc[row_indexer,col_indexer] = value instead\n",
      "\n",
      "See the caveats in the documentation: https://pandas.pydata.org/pandas-docs/stable/user_guide/indexing.html#returning-a-view-versus-a-copy\n",
      "\n",
      "A value is trying to be set on a copy of a slice from a DataFrame.\n",
      "Try using .loc[row_indexer,col_indexer] = value instead\n",
      "\n",
      "See the caveats in the documentation: https://pandas.pydata.org/pandas-docs/stable/user_guide/indexing.html#returning-a-view-versus-a-copy\n"
     ]
    }
   ],
   "source": [
    "#reduce the readmitted target value to binary \n",
    "df['readmitted'] = df['readmitted'].replace('>30', 0)\n",
    "df['readmitted'] = df['readmitted'].replace('<30', 1)\n",
    "df['readmitted'] = df['readmitted'].replace('NO', 0)"
   ]
  },
  {
   "cell_type": "code",
   "execution_count": 25,
   "id": "a4a1f6be",
   "metadata": {},
   "outputs": [],
   "source": [
    "#remove the encounter_id and patient_nbr as they are not useful to the model\n",
    "df = df.drop(['encounter_id','patient_nbr'], axis = 1)"
   ]
  },
  {
   "cell_type": "code",
   "execution_count": 26,
   "id": "8fb31bc2",
   "metadata": {
    "scrolled": true
   },
   "outputs": [
    {
     "data": {
      "text/html": [
       "<div>\n",
       "<style scoped>\n",
       "    .dataframe tbody tr th:only-of-type {\n",
       "        vertical-align: middle;\n",
       "    }\n",
       "\n",
       "    .dataframe tbody tr th {\n",
       "        vertical-align: top;\n",
       "    }\n",
       "\n",
       "    .dataframe thead th {\n",
       "        text-align: right;\n",
       "    }\n",
       "</style>\n",
       "<table border=\"1\" class=\"dataframe\">\n",
       "  <thead>\n",
       "    <tr style=\"text-align: right;\">\n",
       "      <th></th>\n",
       "      <th>0</th>\n",
       "      <th>1</th>\n",
       "      <th>2</th>\n",
       "      <th>3</th>\n",
       "      <th>4</th>\n",
       "    </tr>\n",
       "  </thead>\n",
       "  <tbody>\n",
       "    <tr>\n",
       "      <th>race</th>\n",
       "      <td>2</td>\n",
       "      <td>2</td>\n",
       "      <td>0</td>\n",
       "      <td>2</td>\n",
       "      <td>2</td>\n",
       "    </tr>\n",
       "    <tr>\n",
       "      <th>gender</th>\n",
       "      <td>0</td>\n",
       "      <td>0</td>\n",
       "      <td>0</td>\n",
       "      <td>1</td>\n",
       "      <td>1</td>\n",
       "    </tr>\n",
       "    <tr>\n",
       "      <th>age</th>\n",
       "      <td>5</td>\n",
       "      <td>15</td>\n",
       "      <td>25</td>\n",
       "      <td>35</td>\n",
       "      <td>45</td>\n",
       "    </tr>\n",
       "    <tr>\n",
       "      <th>admission_type_id</th>\n",
       "      <td>6</td>\n",
       "      <td>1</td>\n",
       "      <td>1</td>\n",
       "      <td>1</td>\n",
       "      <td>1</td>\n",
       "    </tr>\n",
       "    <tr>\n",
       "      <th>discharge_disposition_id</th>\n",
       "      <td>25</td>\n",
       "      <td>1</td>\n",
       "      <td>1</td>\n",
       "      <td>1</td>\n",
       "      <td>1</td>\n",
       "    </tr>\n",
       "    <tr>\n",
       "      <th>admission_source_id</th>\n",
       "      <td>1</td>\n",
       "      <td>7</td>\n",
       "      <td>7</td>\n",
       "      <td>7</td>\n",
       "      <td>7</td>\n",
       "    </tr>\n",
       "    <tr>\n",
       "      <th>time_in_hospital</th>\n",
       "      <td>1</td>\n",
       "      <td>3</td>\n",
       "      <td>2</td>\n",
       "      <td>2</td>\n",
       "      <td>1</td>\n",
       "    </tr>\n",
       "    <tr>\n",
       "      <th>num_lab_procedures</th>\n",
       "      <td>41</td>\n",
       "      <td>59</td>\n",
       "      <td>11</td>\n",
       "      <td>44</td>\n",
       "      <td>51</td>\n",
       "    </tr>\n",
       "    <tr>\n",
       "      <th>num_procedures</th>\n",
       "      <td>0</td>\n",
       "      <td>0</td>\n",
       "      <td>5</td>\n",
       "      <td>1</td>\n",
       "      <td>0</td>\n",
       "    </tr>\n",
       "    <tr>\n",
       "      <th>num_medications</th>\n",
       "      <td>1</td>\n",
       "      <td>18</td>\n",
       "      <td>13</td>\n",
       "      <td>16</td>\n",
       "      <td>8</td>\n",
       "    </tr>\n",
       "    <tr>\n",
       "      <th>number_outpatient</th>\n",
       "      <td>0</td>\n",
       "      <td>0</td>\n",
       "      <td>2</td>\n",
       "      <td>0</td>\n",
       "      <td>0</td>\n",
       "    </tr>\n",
       "    <tr>\n",
       "      <th>number_emergency</th>\n",
       "      <td>0</td>\n",
       "      <td>0</td>\n",
       "      <td>0</td>\n",
       "      <td>0</td>\n",
       "      <td>0</td>\n",
       "    </tr>\n",
       "    <tr>\n",
       "      <th>number_inpatient</th>\n",
       "      <td>0</td>\n",
       "      <td>0</td>\n",
       "      <td>1</td>\n",
       "      <td>0</td>\n",
       "      <td>0</td>\n",
       "    </tr>\n",
       "    <tr>\n",
       "      <th>number_diagnoses</th>\n",
       "      <td>1</td>\n",
       "      <td>9</td>\n",
       "      <td>6</td>\n",
       "      <td>7</td>\n",
       "      <td>5</td>\n",
       "    </tr>\n",
       "    <tr>\n",
       "      <th>max_glu_serum</th>\n",
       "      <td>-99</td>\n",
       "      <td>-99</td>\n",
       "      <td>-99</td>\n",
       "      <td>-99</td>\n",
       "      <td>-99</td>\n",
       "    </tr>\n",
       "    <tr>\n",
       "      <th>A1Cresult</th>\n",
       "      <td>-99</td>\n",
       "      <td>-99</td>\n",
       "      <td>-99</td>\n",
       "      <td>-99</td>\n",
       "      <td>-99</td>\n",
       "    </tr>\n",
       "    <tr>\n",
       "      <th>metformin</th>\n",
       "      <td>0</td>\n",
       "      <td>0</td>\n",
       "      <td>0</td>\n",
       "      <td>0</td>\n",
       "      <td>0</td>\n",
       "    </tr>\n",
       "    <tr>\n",
       "      <th>insulin</th>\n",
       "      <td>0</td>\n",
       "      <td>1</td>\n",
       "      <td>0</td>\n",
       "      <td>1</td>\n",
       "      <td>1</td>\n",
       "    </tr>\n",
       "    <tr>\n",
       "      <th>change</th>\n",
       "      <td>0</td>\n",
       "      <td>1</td>\n",
       "      <td>0</td>\n",
       "      <td>1</td>\n",
       "      <td>1</td>\n",
       "    </tr>\n",
       "    <tr>\n",
       "      <th>diabetesMed</th>\n",
       "      <td>0</td>\n",
       "      <td>1</td>\n",
       "      <td>1</td>\n",
       "      <td>1</td>\n",
       "      <td>1</td>\n",
       "    </tr>\n",
       "    <tr>\n",
       "      <th>readmitted</th>\n",
       "      <td>0</td>\n",
       "      <td>0</td>\n",
       "      <td>0</td>\n",
       "      <td>0</td>\n",
       "      <td>0</td>\n",
       "    </tr>\n",
       "  </tbody>\n",
       "</table>\n",
       "</div>"
      ],
      "text/plain": [
       "                           0   1   2   3   4\n",
       "race                       2   2   0   2   2\n",
       "gender                     0   0   0   1   1\n",
       "age                        5  15  25  35  45\n",
       "admission_type_id          6   1   1   1   1\n",
       "discharge_disposition_id  25   1   1   1   1\n",
       "admission_source_id        1   7   7   7   7\n",
       "time_in_hospital           1   3   2   2   1\n",
       "num_lab_procedures        41  59  11  44  51\n",
       "num_procedures             0   0   5   1   0\n",
       "num_medications            1  18  13  16   8\n",
       "number_outpatient          0   0   2   0   0\n",
       "number_emergency           0   0   0   0   0\n",
       "number_inpatient           0   0   1   0   0\n",
       "number_diagnoses           1   9   6   7   5\n",
       "max_glu_serum            -99 -99 -99 -99 -99\n",
       "A1Cresult                -99 -99 -99 -99 -99\n",
       "metformin                  0   0   0   0   0\n",
       "insulin                    0   1   0   1   1\n",
       "change                     0   1   0   1   1\n",
       "diabetesMed                0   1   1   1   1\n",
       "readmitted                 0   0   0   0   0"
      ]
     },
     "execution_count": 26,
     "metadata": {},
     "output_type": "execute_result"
    }
   ],
   "source": [
    "df.head().T"
   ]
  },
  {
   "cell_type": "code",
   "execution_count": 27,
   "id": "eab7c66b",
   "metadata": {
    "scrolled": true
   },
   "outputs": [
    {
     "name": "stdout",
     "output_type": "stream",
     "text": [
      "<class 'pandas.core.frame.DataFrame'>\n",
      "Int64Index: 69667 entries, 0 to 101765\n",
      "Data columns (total 21 columns):\n",
      " #   Column                    Non-Null Count  Dtype\n",
      "---  ------                    --------------  -----\n",
      " 0   race                      69667 non-null  int64\n",
      " 1   gender                    69667 non-null  int64\n",
      " 2   age                       69667 non-null  int64\n",
      " 3   admission_type_id         69667 non-null  int64\n",
      " 4   discharge_disposition_id  69667 non-null  int64\n",
      " 5   admission_source_id       69667 non-null  int64\n",
      " 6   time_in_hospital          69667 non-null  int64\n",
      " 7   num_lab_procedures        69667 non-null  int64\n",
      " 8   num_procedures            69667 non-null  int64\n",
      " 9   num_medications           69667 non-null  int64\n",
      " 10  number_outpatient         69667 non-null  int64\n",
      " 11  number_emergency          69667 non-null  int64\n",
      " 12  number_inpatient          69667 non-null  int64\n",
      " 13  number_diagnoses          69667 non-null  int64\n",
      " 14  max_glu_serum             69667 non-null  int64\n",
      " 15  A1Cresult                 69667 non-null  int64\n",
      " 16  metformin                 69667 non-null  int64\n",
      " 17  insulin                   69667 non-null  int64\n",
      " 18  change                    69667 non-null  int64\n",
      " 19  diabetesMed               69667 non-null  int64\n",
      " 20  readmitted                69667 non-null  int64\n",
      "dtypes: int64(21)\n",
      "memory usage: 11.7 MB\n"
     ]
    }
   ],
   "source": [
    "#check info of dataset\n",
    "df.info()"
   ]
  },
  {
   "cell_type": "code",
   "execution_count": 28,
   "id": "35b34ffd",
   "metadata": {},
   "outputs": [],
   "source": [
    "#convert originally categorical columns to categorical\n",
    "i = ['A1Cresult', 'metformin','change','insulin', 'max_glu_serum',\"diabetesMed\",'admission_source_id','gender','age','discharge_disposition_id', 'admission_type_id',\"race\"]\n",
    "\n",
    "df[i] = df[i].astype('object')"
   ]
  },
  {
   "cell_type": "code",
   "execution_count": 29,
   "id": "f093aa2c",
   "metadata": {
    "scrolled": true
   },
   "outputs": [
    {
     "name": "stdout",
     "output_type": "stream",
     "text": [
      "<class 'pandas.core.frame.DataFrame'>\n",
      "Int64Index: 69667 entries, 0 to 101765\n",
      "Data columns (total 21 columns):\n",
      " #   Column                    Non-Null Count  Dtype \n",
      "---  ------                    --------------  ----- \n",
      " 0   race                      69667 non-null  object\n",
      " 1   gender                    69667 non-null  object\n",
      " 2   age                       69667 non-null  object\n",
      " 3   admission_type_id         69667 non-null  object\n",
      " 4   discharge_disposition_id  69667 non-null  object\n",
      " 5   admission_source_id       69667 non-null  object\n",
      " 6   time_in_hospital          69667 non-null  int64 \n",
      " 7   num_lab_procedures        69667 non-null  int64 \n",
      " 8   num_procedures            69667 non-null  int64 \n",
      " 9   num_medications           69667 non-null  int64 \n",
      " 10  number_outpatient         69667 non-null  int64 \n",
      " 11  number_emergency          69667 non-null  int64 \n",
      " 12  number_inpatient          69667 non-null  int64 \n",
      " 13  number_diagnoses          69667 non-null  int64 \n",
      " 14  max_glu_serum             69667 non-null  object\n",
      " 15  A1Cresult                 69667 non-null  object\n",
      " 16  metformin                 69667 non-null  object\n",
      " 17  insulin                   69667 non-null  object\n",
      " 18  change                    69667 non-null  object\n",
      " 19  diabetesMed               69667 non-null  object\n",
      " 20  readmitted                69667 non-null  int64 \n",
      "dtypes: int64(9), object(12)\n",
      "memory usage: 11.7+ MB\n"
     ]
    }
   ],
   "source": [
    "df.info()"
   ]
  },
  {
   "cell_type": "code",
   "execution_count": 30,
   "id": "6f112afa",
   "metadata": {},
   "outputs": [
    {
     "data": {
      "text/html": [
       "<div>\n",
       "<style scoped>\n",
       "    .dataframe tbody tr th:only-of-type {\n",
       "        vertical-align: middle;\n",
       "    }\n",
       "\n",
       "    .dataframe tbody tr th {\n",
       "        vertical-align: top;\n",
       "    }\n",
       "\n",
       "    .dataframe thead th {\n",
       "        text-align: right;\n",
       "    }\n",
       "</style>\n",
       "<table border=\"1\" class=\"dataframe\">\n",
       "  <thead>\n",
       "    <tr style=\"text-align: right;\">\n",
       "      <th></th>\n",
       "      <th>0</th>\n",
       "      <th>1</th>\n",
       "      <th>2</th>\n",
       "      <th>3</th>\n",
       "      <th>4</th>\n",
       "    </tr>\n",
       "  </thead>\n",
       "  <tbody>\n",
       "    <tr>\n",
       "      <th>race</th>\n",
       "      <td>2</td>\n",
       "      <td>2</td>\n",
       "      <td>0</td>\n",
       "      <td>2</td>\n",
       "      <td>2</td>\n",
       "    </tr>\n",
       "    <tr>\n",
       "      <th>gender</th>\n",
       "      <td>0</td>\n",
       "      <td>0</td>\n",
       "      <td>0</td>\n",
       "      <td>1</td>\n",
       "      <td>1</td>\n",
       "    </tr>\n",
       "    <tr>\n",
       "      <th>age</th>\n",
       "      <td>5</td>\n",
       "      <td>15</td>\n",
       "      <td>25</td>\n",
       "      <td>35</td>\n",
       "      <td>45</td>\n",
       "    </tr>\n",
       "    <tr>\n",
       "      <th>admission_type_id</th>\n",
       "      <td>6</td>\n",
       "      <td>1</td>\n",
       "      <td>1</td>\n",
       "      <td>1</td>\n",
       "      <td>1</td>\n",
       "    </tr>\n",
       "    <tr>\n",
       "      <th>discharge_disposition_id</th>\n",
       "      <td>25</td>\n",
       "      <td>1</td>\n",
       "      <td>1</td>\n",
       "      <td>1</td>\n",
       "      <td>1</td>\n",
       "    </tr>\n",
       "    <tr>\n",
       "      <th>admission_source_id</th>\n",
       "      <td>1</td>\n",
       "      <td>7</td>\n",
       "      <td>7</td>\n",
       "      <td>7</td>\n",
       "      <td>7</td>\n",
       "    </tr>\n",
       "    <tr>\n",
       "      <th>time_in_hospital</th>\n",
       "      <td>1</td>\n",
       "      <td>3</td>\n",
       "      <td>2</td>\n",
       "      <td>2</td>\n",
       "      <td>1</td>\n",
       "    </tr>\n",
       "    <tr>\n",
       "      <th>num_lab_procedures</th>\n",
       "      <td>41</td>\n",
       "      <td>59</td>\n",
       "      <td>11</td>\n",
       "      <td>44</td>\n",
       "      <td>51</td>\n",
       "    </tr>\n",
       "    <tr>\n",
       "      <th>num_procedures</th>\n",
       "      <td>0</td>\n",
       "      <td>0</td>\n",
       "      <td>5</td>\n",
       "      <td>1</td>\n",
       "      <td>0</td>\n",
       "    </tr>\n",
       "    <tr>\n",
       "      <th>num_medications</th>\n",
       "      <td>1</td>\n",
       "      <td>18</td>\n",
       "      <td>13</td>\n",
       "      <td>16</td>\n",
       "      <td>8</td>\n",
       "    </tr>\n",
       "    <tr>\n",
       "      <th>number_outpatient</th>\n",
       "      <td>0</td>\n",
       "      <td>0</td>\n",
       "      <td>2</td>\n",
       "      <td>0</td>\n",
       "      <td>0</td>\n",
       "    </tr>\n",
       "    <tr>\n",
       "      <th>number_emergency</th>\n",
       "      <td>0</td>\n",
       "      <td>0</td>\n",
       "      <td>0</td>\n",
       "      <td>0</td>\n",
       "      <td>0</td>\n",
       "    </tr>\n",
       "    <tr>\n",
       "      <th>number_inpatient</th>\n",
       "      <td>0</td>\n",
       "      <td>0</td>\n",
       "      <td>1</td>\n",
       "      <td>0</td>\n",
       "      <td>0</td>\n",
       "    </tr>\n",
       "    <tr>\n",
       "      <th>number_diagnoses</th>\n",
       "      <td>1</td>\n",
       "      <td>9</td>\n",
       "      <td>6</td>\n",
       "      <td>7</td>\n",
       "      <td>5</td>\n",
       "    </tr>\n",
       "    <tr>\n",
       "      <th>max_glu_serum</th>\n",
       "      <td>-99</td>\n",
       "      <td>-99</td>\n",
       "      <td>-99</td>\n",
       "      <td>-99</td>\n",
       "      <td>-99</td>\n",
       "    </tr>\n",
       "    <tr>\n",
       "      <th>A1Cresult</th>\n",
       "      <td>-99</td>\n",
       "      <td>-99</td>\n",
       "      <td>-99</td>\n",
       "      <td>-99</td>\n",
       "      <td>-99</td>\n",
       "    </tr>\n",
       "    <tr>\n",
       "      <th>metformin</th>\n",
       "      <td>0</td>\n",
       "      <td>0</td>\n",
       "      <td>0</td>\n",
       "      <td>0</td>\n",
       "      <td>0</td>\n",
       "    </tr>\n",
       "    <tr>\n",
       "      <th>insulin</th>\n",
       "      <td>0</td>\n",
       "      <td>1</td>\n",
       "      <td>0</td>\n",
       "      <td>1</td>\n",
       "      <td>1</td>\n",
       "    </tr>\n",
       "    <tr>\n",
       "      <th>change</th>\n",
       "      <td>0</td>\n",
       "      <td>1</td>\n",
       "      <td>0</td>\n",
       "      <td>1</td>\n",
       "      <td>1</td>\n",
       "    </tr>\n",
       "    <tr>\n",
       "      <th>diabetesMed</th>\n",
       "      <td>0</td>\n",
       "      <td>1</td>\n",
       "      <td>1</td>\n",
       "      <td>1</td>\n",
       "      <td>1</td>\n",
       "    </tr>\n",
       "    <tr>\n",
       "      <th>readmitted</th>\n",
       "      <td>0</td>\n",
       "      <td>0</td>\n",
       "      <td>0</td>\n",
       "      <td>0</td>\n",
       "      <td>0</td>\n",
       "    </tr>\n",
       "  </tbody>\n",
       "</table>\n",
       "</div>"
      ],
      "text/plain": [
       "                            0    1    2    3    4\n",
       "race                        2    2    0    2    2\n",
       "gender                      0    0    0    1    1\n",
       "age                         5   15   25   35   45\n",
       "admission_type_id           6    1    1    1    1\n",
       "discharge_disposition_id   25    1    1    1    1\n",
       "admission_source_id         1    7    7    7    7\n",
       "time_in_hospital            1    3    2    2    1\n",
       "num_lab_procedures         41   59   11   44   51\n",
       "num_procedures              0    0    5    1    0\n",
       "num_medications             1   18   13   16    8\n",
       "number_outpatient           0    0    2    0    0\n",
       "number_emergency            0    0    0    0    0\n",
       "number_inpatient            0    0    1    0    0\n",
       "number_diagnoses            1    9    6    7    5\n",
       "max_glu_serum             -99  -99  -99  -99  -99\n",
       "A1Cresult                 -99  -99  -99  -99  -99\n",
       "metformin                   0    0    0    0    0\n",
       "insulin                     0    1    0    1    1\n",
       "change                      0    1    0    1    1\n",
       "diabetesMed                 0    1    1    1    1\n",
       "readmitted                  0    0    0    0    0"
      ]
     },
     "execution_count": 30,
     "metadata": {},
     "output_type": "execute_result"
    }
   ],
   "source": [
    "df.head().T"
   ]
  },
  {
   "cell_type": "markdown",
   "id": "bfb2b798",
   "metadata": {},
   "source": [
    "Data Visualization"
   ]
  },
  {
   "cell_type": "code",
   "execution_count": 31,
   "id": "6ecffb85",
   "metadata": {},
   "outputs": [
    {
     "name": "stderr",
     "output_type": "stream",
     "text": [
      "Pass the following variable as a keyword arg: x. From version 0.12, the only valid positional argument will be `data`, and passing other arguments without an explicit keyword will result in an error or misinterpretation.\n"
     ]
    },
    {
     "data": {
      "text/plain": [
       "Text(0.5, 1.0, 'Readmission Distribution')"
      ]
     },
     "execution_count": 31,
     "metadata": {},
     "output_type": "execute_result"
    },
    {
     "data": {
      "image/png": "[encoded data removed]",
      "text/plain": [
       "<Figure size 432x288 with 1 Axes>"
      ]
     },
     "metadata": {
      "needs_background": "light"
     },
     "output_type": "display_data"
    }
   ],
   "source": [
    "# Readmission Distribution\n",
    "sns.countplot(df['readmitted']).set_title(\"Readmission Distribution\")"
   ]
  },
  {
   "cell_type": "code",
   "execution_count": 32,
   "id": "0ff7f9e8",
   "metadata": {},
   "outputs": [
    {
     "data": {
      "text/plain": [
       "<AxesSubplot:xlabel='count', ylabel='race'>"
      ]
     },
     "execution_count": 32,
     "metadata": {},
     "output_type": "execute_result"
    },
    {
     "data": {
      "image/png": "[encoded data removed]",
      "text/plain": [
       "<Figure size 504x504 with 1 Axes>"
      ]
     },
     "metadata": {
      "needs_background": "light"
     },
     "output_type": "display_data"
    }
   ],
   "source": [
    "#visualize distribution of Race against readmission0: African/American 1: Asian 2: Caucasian 3: Hispanic 4:Others\n",
    "fig = plt.figure(figsize=(7,7))\n",
    "sns.countplot(y=df['race'])"
   ]
  },
  {
   "cell_type": "code",
   "execution_count": 33,
   "id": "7365d715",
   "metadata": {},
   "outputs": [
    {
     "data": {
      "text/plain": [
       "<AxesSubplot:xlabel='count', ylabel='race'>"
      ]
     },
     "execution_count": 33,
     "metadata": {},
     "output_type": "execute_result"
    },
    {
     "data": {
      "image/png": "[encoded data removed]",
      "text/plain": [
       "<Figure size 720x720 with 1 Axes>"
      ]
     },
     "metadata": {
      "needs_background": "light"
     },
     "output_type": "display_data"
    }
   ],
   "source": [
    "#Race against readmission\n",
    "#0: African/American 1: Asian 2: Caucasian 3: Hispanic 4:Others\n",
    "fig = plt.figure(figsize=(10,10))\n",
    "sns.countplot(y = df['race'], hue = df['readmitted'])\n",
    "\n"
   ]
  },
  {
   "cell_type": "code",
   "execution_count": 34,
   "id": "098522dd",
   "metadata": {},
   "outputs": [
    {
     "name": "stderr",
     "output_type": "stream",
     "text": [
      "Pass the following variable as a keyword arg: x. From version 0.12, the only valid positional argument will be `data`, and passing other arguments without an explicit keyword will result in an error or misinterpretation.\n"
     ]
    },
    {
     "data": {
      "text/plain": [
       "Text(0.5, 1.0, 'Gender of Patient VS. Readmission')"
      ]
     },
     "execution_count": 34,
     "metadata": {},
     "output_type": "execute_result"
    },
    {
     "data": {
      "image/png": "[encoded data removed]",
      "text/plain": [
       "<Figure size 576x576 with 1 Axes>"
      ]
     },
     "metadata": {
      "needs_background": "light"
     },
     "output_type": "display_data"
    }
   ],
   "source": [
    "#gender against readmission, 0:male, 1:female\n",
    "fig = plt.figure(figsize=(8,8))\n",
    "sns.countplot(df['gender'], hue = df['readmitted']).set_title(\"Gender of Patient VS. Readmission\")"
   ]
  },
  {
   "cell_type": "code",
   "execution_count": 35,
   "id": "75dcfbd6",
   "metadata": {},
   "outputs": [
    {
     "name": "stderr",
     "output_type": "stream",
     "text": [
      "Pass the following variable as a keyword arg: x. From version 0.12, the only valid positional argument will be `data`, and passing other arguments without an explicit keyword will result in an error or misinterpretation.\n"
     ]
    },
    {
     "data": {
      "text/plain": [
       "Text(0.5, 1.0, 'Number of Diabetes Medication VS Readmission')"
      ]
     },
     "execution_count": 35,
     "metadata": {},
     "output_type": "execute_result"
    },
    {
     "data": {
      "image/png": "[encoded data removed]",
      "text/plain": [
       "<Figure size 576x576 with 1 Axes>"
      ]
     },
     "metadata": {
      "needs_background": "light"
     },
     "output_type": "display_data"
    }
   ],
   "source": [
    "#diabetesMedication number against readmission, 0:no, 1:yes\n",
    "fig = plt.figure(figsize=(8,8))\n",
    "sns.countplot(df['diabetesMed'], hue = df['readmitted']).set_title('Number of Diabetes Medication VS Readmission')"
   ]
  },
  {
   "cell_type": "code",
   "execution_count": 36,
   "id": "72515d16",
   "metadata": {},
   "outputs": [
    {
     "name": "stderr",
     "output_type": "stream",
     "text": [
      "Pass the following variable as a keyword arg: x. From version 0.12, the only valid positional argument will be `data`, and passing other arguments without an explicit keyword will result in an error or misinterpretation.\n"
     ]
    },
    {
     "data": {
      "text/plain": [
       "Text(0.5, 1.0, 'Age VS. Readmission')"
      ]
     },
     "execution_count": 36,
     "metadata": {},
     "output_type": "execute_result"
    },
    {
     "data": {
      "image/png": "[encoded data removed]",
      "text/plain": [
       "<Figure size 432x288 with 1 Axes>"
      ]
     },
     "metadata": {
      "needs_background": "light"
     },
     "output_type": "display_data"
    }
   ],
   "source": [
    "#age against readmission\n",
    "sns.countplot(df['age'], hue = df['readmitted']).set_title(\"Age VS. Readmission\")"
   ]
  },
  {
   "cell_type": "markdown",
   "id": "34cede5e",
   "metadata": {},
   "source": [
    "# MODEL BUILDING"
   ]
  },
  {
   "cell_type": "code",
   "execution_count": 37,
   "id": "50608302",
   "metadata": {},
   "outputs": [],
   "source": [
    "#Split dataset into testing and training data\n",
    "target = \"readmitted\"\n",
    "y = df[target]\n",
    "X = df.drop(columns = target)\n",
    "X_train, X_test, y_train, y_test = train_test_split(X, y, test_size=.2, random_state=15)"
   ]
  },
  {
   "cell_type": "code",
   "execution_count": 38,
   "id": "47281726",
   "metadata": {},
   "outputs": [
    {
     "name": "stdout",
     "output_type": "stream",
     "text": [
      "Original dataset shape Counter({0: 50839, 1: 4894})\n",
      "New dataset shape Counter({0: 50839, 1: 50839})\n"
     ]
    }
   ],
   "source": [
    "#Using the SMOTE technique To handle unbalanced data\n",
    "from imblearn.over_sampling import SMOTE\n",
    "from collections import Counter\n",
    "print('Original dataset shape {}'.format(Counter(y_train)))\n",
    "sm = SMOTE(random_state=15)\n",
    "train_input, train_output = sm.fit_sample(X_train, y_train)\n",
    "print('New dataset shape {}'.format(Counter(train_output)))"
   ]
  },
  {
   "cell_type": "code",
   "execution_count": 39,
   "id": "dbb9e662",
   "metadata": {},
   "outputs": [],
   "source": [
    "#split dataset into training and testing data\n",
    "train_input = pd.DataFrame(train_input, columns = list(X.columns))\n",
    "X_train, X_test, y_train, y_test = train_test_split(train_input, train_output, test_size=0.20, random_state=0)\n"
   ]
  },
  {
   "cell_type": "code",
   "execution_count": 40,
   "id": "21350956",
   "metadata": {},
   "outputs": [
    {
     "name": "stdout",
     "output_type": "stream",
     "text": [
      "race                        object\n",
      "gender                      object\n",
      "age                         object\n",
      "admission_type_id           object\n",
      "discharge_disposition_id    object\n",
      "admission_source_id         object\n",
      "time_in_hospital             int64\n",
      "num_lab_procedures           int64\n",
      "num_procedures               int64\n",
      "num_medications              int64\n",
      "number_outpatient            int64\n",
      "number_emergency             int64\n",
      "number_inpatient             int64\n",
      "number_diagnoses             int64\n",
      "max_glu_serum               object\n",
      "A1Cresult                   object\n",
      "metformin                   object\n",
      "insulin                     object\n",
      "change                      object\n",
      "diabetesMed                 object\n",
      "dtype: object\n"
     ]
    }
   ],
   "source": [
    "print(train_input.dtypes)"
   ]
  },
  {
   "cell_type": "markdown",
   "id": "655b8ed9",
   "metadata": {},
   "source": [
    "Decision Tree"
   ]
  },
  {
   "cell_type": "code",
   "execution_count": 41,
   "id": "09961e53",
   "metadata": {},
   "outputs": [],
   "source": [
    "#DecisionTreeClassifier\n",
    "dtc = DecisionTreeClassifier(max_depth=28, min_samples_split=10,random_state = 10)\n",
    "dtc.fit(X_train, y_train)\n",
    "dtc_pred = dtc.predict(X_test)\n"
   ]
  },
  {
   "cell_type": "code",
   "execution_count": 42,
   "id": "05ccd7ff",
   "metadata": {},
   "outputs": [
    {
     "name": "stdout",
     "output_type": "stream",
     "text": [
      "The Accuracy is  0.9147816679779701\n",
      "The Classification report on the decision tree model is               precision    recall  f1-score   support\n",
      "\n",
      "           0       0.90      0.93      0.92     10149\n",
      "           1       0.93      0.90      0.91     10187\n",
      "\n",
      "    accuracy                           0.91     20336\n",
      "   macro avg       0.92      0.91      0.91     20336\n",
      "weighted avg       0.92      0.91      0.91     20336\n",
      "\n",
      "The ROC _AUC score for decision classifier model is:  0.9371655500800901\n"
     ]
    },
    {
     "data": {
      "image/png": "[encoded data removed]",
      "text/plain": [
       "<Figure size 360x216 with 2 Axes>"
      ]
     },
     "metadata": {
      "needs_background": "light"
     },
     "output_type": "display_data"
    },
    {
     "data": {
      "image/png": "[encoded data removed]",
      "text/plain": [
       "<Figure size 576x576 with 1 Axes>"
      ]
     },
     "metadata": {
      "needs_background": "light"
     },
     "output_type": "display_data"
    }
   ],
   "source": [
    "#Evaluation for decisionTreeClassifier\n",
    "print(\"The Accuracy is \", accuracy_score(y_test, dtc_pred))\n",
    "print(\"The Classification report on the decision tree model is\" , classification_report(y_test, dtc_pred))\n",
    "cm =confusion_matrix(y_test,dtc_pred)\n",
    "plt.figure(figsize=(5,3), )\n",
    "sns.heatmap(cm,annot=True,fmt='g')\n",
    "\n",
    "\n",
    "#plot ROC curve\n",
    "y_score = dtc.predict_proba(X_test)[:,1]\n",
    "print(\"The ROC _AUC score for decision classifier model is: \", roc_auc_score(y_test, y_score))\n",
    "fpr,tpr, threshold= roc_curve(y_test, y_score)\n",
    "plt.subplots(1,figsize=(8,8))\n",
    "plt.title('ROC - decision tree classifier')\n",
    "plt.plot(fpr,tpr)\n",
    "plt.plot([0,1], ls=\"--\")\n",
    "plt.plot([0,0],[1,0], c=\".7\"),plt.plot([1,1],c =\".7\")\n",
    "plt.ylabel(\"True Positive Rate\")\n",
    "plt.xlabel(\"false Positive Rate\")\n",
    "plt.show()"
   ]
  },
  {
   "cell_type": "markdown",
   "id": "36489355",
   "metadata": {},
   "source": [
    "RandomForestClassifier"
   ]
  },
  {
   "cell_type": "code",
   "execution_count": 43,
   "id": "9ac00848",
   "metadata": {},
   "outputs": [],
   "source": [
    "#Random Forest Classifier\n",
    "from sklearn.ensemble import RandomForestClassifier\n",
    "rfc = RandomForestClassifier(n_estimators = 10, max_depth=25, min_samples_split=10, random_state = 10)\n",
    "rfc.fit(X_train, y_train)\n",
    "rfc_pred = rfc.predict(X_test)"
   ]
  },
  {
   "cell_type": "code",
   "execution_count": 44,
   "id": "c7015f1e",
   "metadata": {},
   "outputs": [
    {
     "name": "stdout",
     "output_type": "stream",
     "text": [
      "The Accuracy is  0.9399095200629426\n",
      "The Classification report on the random forest model is               precision    recall  f1-score   support\n",
      "\n",
      "           0       0.90      0.99      0.94     10149\n",
      "           1       0.99      0.89      0.94     10187\n",
      "\n",
      "    accuracy                           0.94     20336\n",
      "   macro avg       0.95      0.94      0.94     20336\n",
      "weighted avg       0.95      0.94      0.94     20336\n",
      "\n",
      "The ROC _AUC score for random forest classifier model is:  0.9648944915323376\n"
     ]
    },
    {
     "data": {
      "image/png": "[encoded data removed]",
      "text/plain": [
       "<Figure size 360x216 with 2 Axes>"
      ]
     },
     "metadata": {
      "needs_background": "light"
     },
     "output_type": "display_data"
    },
    {
     "data": {
      "image/png": "[encoded data removed]",
      "text/plain": [
       "<Figure size 576x576 with 1 Axes>"
      ]
     },
     "metadata": {
      "needs_background": "light"
     },
     "output_type": "display_data"
    }
   ],
   "source": [
    "#evaluate accuracy\n",
    "print(\"The Accuracy is \", accuracy_score(y_test, rfc_pred))\n",
    "print(\"The Classification report on the random forest model is\" , classification_report(y_test, rfc_pred))\n",
    "cm =confusion_matrix(y_test,rfc_pred)\n",
    "plt.figure(figsize=(5,3), )\n",
    "sns.heatmap(cm,annot=True,fmt='g')\n",
    "\n",
    "#plot ROC curve\n",
    "y_score = rfc.predict_proba(X_test)[:,1]\n",
    "print(\"The ROC _AUC score for random forest classifier model is: \", roc_auc_score(y_test, y_score))\n",
    "fpr,tpr, threshold= roc_curve(y_test, y_score)\n",
    "plt.subplots(1,figsize=(8,8))\n",
    "plt.title('ROC - random forest classifier')\n",
    "plt.plot(fpr,tpr)\n",
    "plt.plot([0,1], ls=\"--\")\n",
    "plt.plot([0,0],[1,0], c=\".7\"),plt.plot([1,1],c =\".7\")\n",
    "plt.ylabel(\"True Positive Rate\")\n",
    "plt.xlabel(\"false Positive Rate\")\n",
    "plt.show()"
   ]
  },
  {
   "cell_type": "markdown",
   "id": "350e029d",
   "metadata": {},
   "source": [
    "Gradient Boosting Classifier"
   ]
  },
  {
   "cell_type": "code",
   "execution_count": 45,
   "id": "5f5dcb56",
   "metadata": {},
   "outputs": [],
   "source": [
    "#GradientBoostingClassifiers\n",
    "gbc= GradientBoostingClassifier(n_estimators = 10, max_depth = 25, random_state = 10)\n",
    "gbc.fit(X_train,y_train)\n",
    "gbc_prd = gbc.predict(X_test)"
   ]
  },
  {
   "cell_type": "code",
   "execution_count": 46,
   "id": "ba4ef105",
   "metadata": {},
   "outputs": [
    {
     "name": "stdout",
     "output_type": "stream",
     "text": [
      "The Accuracy is  0.9100118017309206\n",
      "The Classification report on the GRADIENT BOOSTING tree model is               precision    recall  f1-score   support\n",
      "\n",
      "           0       0.91      0.91      0.91     10149\n",
      "           1       0.91      0.91      0.91     10187\n",
      "\n",
      "    accuracy                           0.91     20336\n",
      "   macro avg       0.91      0.91      0.91     20336\n",
      "weighted avg       0.91      0.91      0.91     20336\n",
      "\n",
      "The ROC _AUC score for gradientboostingclassifier is:  0.9348775542444476\n"
     ]
    },
    {
     "data": {
      "image/png": "[encoded data removed]",
      "text/plain": [
       "<Figure size 360x216 with 2 Axes>"
      ]
     },
     "metadata": {
      "needs_background": "light"
     },
     "output_type": "display_data"
    },
    {
     "data": {
      "image/png": "[encoded data removed]",
      "text/plain": [
       "<Figure size 576x576 with 1 Axes>"
      ]
     },
     "metadata": {
      "needs_background": "light"
     },
     "output_type": "display_data"
    }
   ],
   "source": [
    "#Evaluation for gradientboostingclassifier\n",
    "print(\"The Accuracy is \", accuracy_score(y_test, gbc_prd))\n",
    "print(\"The Classification report on the GRADIENT BOOSTING tree model is\" , classification_report(y_test, gbc_prd))\n",
    "cm =confusion_matrix(y_test,gbc_prd)\n",
    "plt.figure(figsize=(5,3), )\n",
    "sns.heatmap(cm,annot=True,fmt='g')\n",
    "\n",
    "#plot ROC curve\n",
    "y_score = gbc.predict_proba(X_test)[:,1]\n",
    "print(\"The ROC _AUC score for gradientboostingclassifier is: \", roc_auc_score(y_test, y_score))\n",
    "fpr,tpr, threshold= roc_curve(y_test, y_score)\n",
    "plt.subplots(1,figsize=(8,8))\n",
    "plt.title('ROC - gradientboostingclassifier')\n",
    "plt.plot(fpr,tpr)\n",
    "plt.plot([0,1], ls=\"--\")\n",
    "plt.plot([0,0],[1,0], c=\".7\"),plt.plot([1,1],c =\".7\")\n",
    "plt.ylabel(\"True Positive Rate\")\n",
    "plt.xlabel(\"false Positive Rate\")\n",
    "plt.show()"
   ]
  },
  {
   "cell_type": "markdown",
   "id": "00330bbd",
   "metadata": {},
   "source": [
    "GINI IMPORTANCE FOR RANDOM FOREST, DECISION TREE AND GRADIENT BOOSTING CLASSIFIER"
   ]
  },
  {
   "cell_type": "code",
   "execution_count": 47,
   "id": "7e885236",
   "metadata": {},
   "outputs": [
    {
     "data": {
      "image/png": "[encoded data removed]",
      "text/plain": [
       "<Figure size 1080x720 with 1 Axes>"
      ]
     },
     "metadata": {
      "needs_background": "light"
     },
     "output_type": "display_data"
    }
   ],
   "source": [
    "#important features for Decision Tree\n",
    "feature_names = X_train.columns\n",
    "feature_imports = dtc.feature_importances_\n",
    "most_imp_features = pd.DataFrame([f for f in zip(feature_names,feature_imports)], columns=[\"Feature\", \"Importance\"])\n",
    "most_imp_features.sort_values(by=\"Importance\", inplace=True)\n",
    "plt.figure(figsize=(15,10))\n",
    "plt.barh(range(len(most_imp_features)), most_imp_features.Importance, align='center', alpha=0.8)\n",
    "plt.yticks(range(len(most_imp_features)), most_imp_features.Feature, fontsize=14)\n",
    "plt.xlabel('Importance')\n",
    "plt.title('Most important features - Decision Tree ')\n",
    "plt.show()"
   ]
  },
  {
   "cell_type": "code",
   "execution_count": 48,
   "id": "020502a2",
   "metadata": {},
   "outputs": [
    {
     "data": {
      "image/png": "[encoded data removed]",
      "text/plain": [
       "<Figure size 1080x720 with 1 Axes>"
      ]
     },
     "metadata": {
      "needs_background": "light"
     },
     "output_type": "display_data"
    }
   ],
   "source": [
    "#important features for Random Forest\n",
    "feature_names = X_train.columns\n",
    "feature_imports = rfc.feature_importances_\n",
    "most_imp_features = pd.DataFrame([f for f in zip(feature_names,feature_imports)], columns=[\"Feature\", \"Importance\"])\n",
    "most_imp_features.sort_values(by=\"Importance\", inplace=True)\n",
    "plt.figure(figsize=(15,10))\n",
    "plt.barh(range(len(most_imp_features)), most_imp_features.Importance, align='center', alpha=0.8)\n",
    "plt.yticks(range(len(most_imp_features)), most_imp_features.Feature, fontsize=14)\n",
    "plt.xlabel('Importance')\n",
    "plt.title('important features - Random Forest ')\n",
    "plt.show()"
   ]
  },
  {
   "cell_type": "code",
   "execution_count": 49,
   "id": "5a3ef587",
   "metadata": {},
   "outputs": [
    {
     "data": {
      "image/png": "[encoded data removed]",
      "text/plain": [
       "<Figure size 1080x720 with 1 Axes>"
      ]
     },
     "metadata": {
      "needs_background": "light"
     },
     "output_type": "display_data"
    }
   ],
   "source": [
    "#Feature importance for Gradient Boostng Classifier\n",
    "feature_names = X_train.columns\n",
    "feature_imports = gbc.feature_importances_\n",
    "most_imp_features = pd.DataFrame([f for f in zip(feature_names,feature_imports)], columns=[\"Feature\", \"Importance\"])\n",
    "most_imp_features.sort_values(by=\"Importance\", inplace=True)\n",
    "plt.figure(figsize=(15,10))\n",
    "plt.barh(range(len(most_imp_features)), most_imp_features.Importance, align='center', alpha=0.8)\n",
    "plt.yticks(range(len(most_imp_features)), most_imp_features.Feature, fontsize=14)\n",
    "plt.xlabel('Importance')\n",
    "plt.title('Most important features - gradient boosting classifier ')\n",
    "plt.show()"
   ]
  },
  {
   "cell_type": "markdown",
   "id": "d065ea1f",
   "metadata": {},
   "source": [
    "FEATURE IMPORTANCE USING SHAP VALUES"
   ]
  },
  {
   "cell_type": "code",
   "execution_count": null,
   "id": "a275c209",
   "metadata": {},
   "outputs": [],
   "source": [
    "#shap values for randomforest classifier\n",
    "explainer = shap.TreeExplainer(rfc)\n",
    "shap_values = explainer.shap_values(X_train)\n",
    "shap.summary_plot(shap_values, features = X_train, feature_names = X_train.columns, plot_type =\"bar\")"
   ]
  },
  {
   "cell_type": "code",
   "execution_count": 51,
   "id": "e841c241",
   "metadata": {},
   "outputs": [
    {
     "data": {
      "image/png": "[encoded data removed]",
      "text/plain": [
       "<Figure size 576x684 with 1 Axes>"
      ]
     },
     "metadata": {
      "needs_background": "light"
     },
     "output_type": "display_data"
    }
   ],
   "source": [
    "#Decision Tree Classifier\n",
    "explainer = shap.TreeExplainer(dtc)\n",
    "shap_values = explainer.shap_values(X_train)\n",
    "shap.summary_plot(shap_values, features = X_train, feature_names = X_train.columns, plot_type =\"bar\")"
   ]
  },
  {
   "cell_type": "code",
   "execution_count": null,
   "id": "2869fbb9",
   "metadata": {},
   "outputs": [],
   "source": [
    "#gradient boosting classifier\n",
    "explainer = shap.TreeExplainer(gbc)\n",
    "shap_values = explainer.shap_values(X_train)\n",
    "shap.summary_plot(shap_values, features = X_train, feature_names = X_train.columns, plot_type =\"bar\")"
   ]
  },
  {
   "cell_type": "markdown",
   "id": "138e88e4",
   "metadata": {},
   "source": [
    "# Retraining and evaluation with feature importance"
   ]
  },
  {
   "cell_type": "markdown",
   "id": "ed0dff7a",
   "metadata": {},
   "source": [
    "decision tree"
   ]
  },
  {
   "cell_type": "code",
   "execution_count": null,
   "id": "f82efb6a",
   "metadata": {},
   "outputs": [],
   "source": [
    "## retrain decision tree with top 10 features of decision tree\n",
    "train_inputDTC= train_input.drop(['age', 'time_in_hospital', 'num_procedures',\n",
    "       'number_outpatient', 'number_emergency', 'number_inpatient', 'max_glu_serum', 'A1Cresult','admission_source_id','number_diagnoses',], axis=1)\n",
    "print(train_inputDTC.columns)\n",
    "X_train, X_test, y_train, y_test = train_test_split(train_inputDTC, train_output, test_size=0.20)\n",
    "dtc = DecisionTreeClassifier(max_depth=28, min_samples_split=10, random_state=0)\n",
    "dtc.fit(X_train, y_train)\n",
    "dtc_pred = dtc.predict(X_test)\n",
    "\n",
    "#evaluate\n",
    "print(\"The Accuracy is \", accuracy_score(y_test, dtc_pred))\n",
    "print(\"The Classification report on the decision tree model is\" , classification_report(y_test, dtc_pred))\n",
    "cm =confusion_matrix(y_test,dtc_pred)\n",
    "plt.figure(figsize=(5,3), )\n",
    "sns.heatmap(cm,annot=True,fmt='g')\n",
    "y_score1 = dtc.predict_proba(X_test)[:,1]\n",
    "print(\"The ROC _AUC score for decision tree is: \", roc_auc_score(y_test, y_score1))\n",
    "fpr,tpr, threshold= roc_curve(y_test, y_score1)\n",
    "plt.subplots(1,figsize=(8,8))\n",
    "plt.title('ROC - decision tree(10 features)')\n",
    "plt.plot(fpr,tpr)\n",
    "plt.plot([0,1], ls=\"--\")\n",
    "plt.plot([0,0],[1,0], c=\".7\"),plt.plot([1,1],c =\".7\")\n",
    "plt.ylabel(\"True Positive Rate\")\n",
    "plt.xlabel(\"false Positive Rate\")\n",
    "plt.show()"
   ]
  },
  {
   "cell_type": "code",
   "execution_count": null,
   "id": "13109b6f",
   "metadata": {},
   "outputs": [],
   "source": [
    "## retrain decision tree with top 6 features of decision tree\n",
    "train_inputDTC= train_input.drop(['age', 'time_in_hospital', 'num_procedures',\n",
    "       'number_outpatient', 'number_emergency', 'number_inpatient', 'max_glu_serum', 'A1Cresult','admission_source_id','number_diagnoses','num_medications','admission_type_id','num_lab_procedures','race',], axis=1)\n",
    "X_train, X_test, y_train, y_test = train_test_split(train_inputDTC, train_output, test_size=0.20)\n",
    "dtc = DecisionTreeClassifier(max_depth=28, min_samples_split=10,random_state=0)\n",
    "dtc.fit(X_train, y_train)\n",
    "dtc_pred = dtc.predict(X_test)\n",
    "\n",
    "#Evaluation for decisionTreeClassifier \n",
    "print(\"The Accuracy is \", accuracy_score(y_test, dtc_pred))\n",
    "print(\"The Classification report on the Decision tree model is\" , classification_report(y_test, dtc_pred))\n",
    "cm =confusion_matrix(y_test,dtc_pred)\n",
    "plt.figure(figsize=(5,3), )\n",
    "sns.heatmap(cm,annot=True,fmt='g')\n",
    "y_score1 = dtc.predict_proba(X_test)[:,1]\n",
    "print(\"The ROC _AUC score for Decision tree is: \", roc_auc_score(y_test, y_score1))\n",
    "fpr,tpr, threshold= roc_curve(y_test, y_score1)\n",
    "plt.subplots(1,figsize=(8,8))\n",
    "plt.title('ROC - Decision Tree(6 features)')\n",
    "plt.plot(fpr,tpr)\n",
    "plt.plot([0,1], ls=\"--\")\n",
    "plt.plot([0,0],[1,0], c=\".7\"),plt.plot([1,1],c =\".7\")\n",
    "plt.ylabel(\"True Positive Rate\")\n",
    "plt.xlabel(\"false Positive Rate\")\n",
    "plt.show()"
   ]
  },
  {
   "cell_type": "markdown",
   "id": "efa14704",
   "metadata": {},
   "source": [
    "random forest classifier"
   ]
  },
  {
   "cell_type": "code",
   "execution_count": null,
   "id": "75ea870e",
   "metadata": {},
   "outputs": [],
   "source": [
    "#randomforest classifier\n",
    "# retrain random forest with top 10 features\n",
    "#Random forest top 10 features\n",
    "\n",
    "train_inputRFC= train_input.drop(['age', 'time_in_hospital', 'num_procedures',\n",
    "       'number_outpatient', 'number_emergency', 'number_inpatient', 'max_glu_serum', 'A1Cresult','number_diagnoses','admission_source_id'], axis=1)\n",
    "X_train, X_test, y_train, y_test = train_test_split(train_inputRFC, train_output, test_size=0.20)\n",
    "#Random Forest Classifier\n",
    "from sklearn.ensemble import RandomForestClassifier\n",
    "rfc = RandomForestClassifier(n_estimators = 10, max_depth=25, min_samples_split=10, random_state = 10)\n",
    "rfc.fit(X_train, y_train)\n",
    "rfc_pred = rfc.predict(X_test)\n",
    "#evaluate\n",
    "print(\"The Accuracy is \", accuracy_score(y_test, rfc_pred))\n",
    "print(\"The Classification report on the random forest model is\" , classification_report(y_test, rfc_pred))\n",
    "cm =confusion_matrix(y_test,rfc_pred)\n",
    "plt.figure(figsize=(5,3), )\n",
    "sns.heatmap(cm,annot=True,fmt='g')\n",
    "\n",
    "\n",
    "y_score1 = rfc.predict_proba(X_test)[:,1]\n",
    "print(\"The ROC _AUC score for random forest is: \", roc_auc_score(y_test, y_score1))\n",
    "fpr,tpr, threshold= roc_curve(y_test, y_score1)\n",
    "plt.subplots(1,figsize=(8,8))\n",
    "plt.title('ROC - Random Forest Classifier (10 features)')\n",
    "plt.plot(fpr,tpr)\n",
    "plt.plot([0,1], ls=\"--\")\n",
    "plt.plot([0,0],[1,0], c=\".7\"),plt.plot([1,1],c =\".7\")\n",
    "plt.ylabel(\"True Positive Rate\")\n",
    "plt.xlabel(\"false Positive Rate\")\n",
    "plt.show()"
   ]
  },
  {
   "cell_type": "code",
   "execution_count": null,
   "id": "f6a20c97",
   "metadata": {},
   "outputs": [],
   "source": [
    "#retrain Random Forest classifier with top 6 features\n",
    "train_inputRFC= train_input.drop(['age', 'time_in_hospital', 'num_procedures',\n",
    "       'number_outpatient', 'number_emergency', 'number_inpatient', 'max_glu_serum', 'A1Cresult','num_medications','num_lab_procedures','admission_source_id','number_diagnoses', 'admission_type_id','metformin'], axis=1)\n",
    "X_train, X_test, y_train, y_test = train_test_split(train_inputRFC, train_output, test_size=0.20, random_state=0)\n",
    "from sklearn.ensemble import RandomForestClassifier\n",
    "rfc = RandomForestClassifier(n_estimators = 10, max_depth=25, min_samples_split=10, random_state = 10)\n",
    "rfc.fit(X_train, y_train)\n",
    "rfc_pred = rfc.predict(X_test)\n",
    "print(\"The Accuracy is \", accuracy_score(y_test, rfc_pred))\n",
    "print(\"The Classification report on the random forest model is\" , classification_report(y_test, rfc_pred))\n",
    "cm =confusion_matrix(y_test,rfc_pred)\n",
    "plt.figure(figsize=(5,3), )\n",
    "sns.heatmap(cm,annot=True,fmt='g')\n",
    "\n",
    "#Evaluate\n",
    "y_score1 = rfc.predict_proba(X_test)[:,1]\n",
    "print(\"The ROC _AUC score for random forestt is: \", roc_auc_score(y_test, y_score1))\n",
    "fpr,tpr, threshold= roc_curve(y_test, y_score1)\n",
    "plt.subplots(1,figsize=(8,8))\n",
    "plt.title('ROC - random forest (6 features)')\n",
    "plt.plot(fpr,tpr)\n",
    "plt.plot([0,1], ls=\"--\")\n",
    "plt.plot([0,0],[1,0], c=\".7\"),plt.plot([1,1],c =\".7\")\n",
    "plt.ylabel(\"True Positive Rate\")\n",
    "plt.xlabel(\"false Positive Rate\")\n",
    "plt.show()\n"
   ]
  },
  {
   "cell_type": "markdown",
   "id": "7b0adf10",
   "metadata": {},
   "source": [
    "gradient boosting classifier"
   ]
  },
  {
   "cell_type": "code",
   "execution_count": null,
   "id": "b7a7dcce",
   "metadata": {},
   "outputs": [],
   "source": [
    "#gradient boosting classifier\n",
    "#retrain gradient boosting classifier with top 10 features\n",
    "train_inputGBC= train_input.drop(['age', 'admission_source_id', 'num_procedures',\n",
    "       'number_outpatient', 'number_emergency', 'number_inpatient',\n",
    "       'number_diagnoses', 'max_glu_serum', 'A1Cresult','admission_type_id'], axis=1)\n",
    "X_train, X_test, y_train, y_test = train_test_split(train_inputGBC, train_output, test_size=0.20, random_state=0)\n",
    "#GradientBoostingClassifiers\n",
    "gbc= GradientBoostingClassifier(n_estimators = 10, max_depth = 25, random_state = 10)\n",
    "gbc.fit(X_train,y_train)\n",
    "gbc_prd = gbc.predict(X_test)\n",
    "#Evaluation for gradientboostingclassifier\n",
    "print(\"The Accuracy is \", accuracy_score(y_test, gbc_prd))\n",
    "print(\"The Classification report on the gradientboostingclassifier model is\" , classification_report(y_test, gbc_prd))\n",
    "cm =confusion_matrix(y_test,gbc_prd)\n",
    "plt.figure(figsize=(5,3), )\n",
    "sns.heatmap(cm,annot=True,fmt='g')\n",
    "\n",
    "y_score1 = gbc.predict_proba(X_test)[:,1]\n",
    "print(\"The ROC _AUC score for gradientboostingclassifiert is: \", roc_auc_score(y_test, y_score1))\n",
    "fpr,tpr, threshold= roc_curve(y_test, y_score1)\n",
    "plt.subplots(1,figsize=(8,8))\n",
    "plt.title('ROC - gradientboosting(10 features)')\n",
    "plt.plot(fpr,tpr)\n",
    "plt.plot([0,1], ls=\"--\")\n",
    "plt.plot([0,0],[1,0], c=\".7\"),plt.plot([1,1],c =\".7\")\n",
    "plt.ylabel(\"True Positive Rate\")\n",
    "plt.xlabel(\"false Positive Rate\")\n",
    "plt.show()\n"
   ]
  },
  {
   "cell_type": "code",
   "execution_count": null,
   "id": "4373a2ab",
   "metadata": {},
   "outputs": [],
   "source": [
    "#retrain gradient boosting classifier with top 6 features\n",
    "train_inputGBC= train_input.drop(['age', 'admission_source_id', 'num_procedures',\n",
    "       'number_outpatient', 'number_emergency', 'number_inpatient',\n",
    "       'number_diagnoses', 'max_glu_serum', 'A1Cresult','admission_type_id','race','time_in_hospital','num_medications','change'], axis=1)\n",
    "train_inputGBC.info()\n",
    "\n",
    "X_train, X_test, y_train, y_test = train_test_split(train_inputGBC, train_output, test_size=0.20, random_state=0)\n",
    "gbc= GradientBoostingClassifier(n_estimators = 10, max_depth = 25, random_state = 10)\n",
    "gbc.fit(X_train,y_train)\n",
    "gbc_prd = gbc.predict(X_test)\n",
    "#Evaluation for gradientboostingclassifier\n",
    "print(\"The Accuracy is \", accuracy_score(y_test, gbc_prd))\n",
    "print(\"The Classification report on the gradientboostingclassifier model is\" , classification_report(y_test, gbc_prd))\n",
    "cm =confusion_matrix(y_test,gbc_prd)\n",
    "plt.figure(figsize=(5,3), )\n",
    "sns.heatmap(cm,annot=True,fmt='g')\n",
    "\n",
    "y_score1 = gbc.predict_proba(X_test)[:,1]\n",
    "print(\"The ROC _AUC score for gradientboostingclassifier is: \", roc_auc_score(y_test, y_score1))\n",
    "fpr,tpr, threshold= roc_curve(y_test, y_score1)\n",
    "plt.subplots(1,figsize=(8,8))\n",
    "plt.title('ROC - gradientboosting(6 features)')\n",
    "plt.plot(fpr,tpr)\n",
    "plt.plot([0,1], ls=\"--\")\n",
    "plt.plot([0,0],[1,0], c=\".7\"),plt.plot([1,1],c =\".7\")\n",
    "plt.ylabel(\"True Positive Rate\")\n",
    "plt.xlabel(\"false Positive Rate\")\n",
    "plt.show()"
   ]
  },
  {
   "cell_type": "markdown",
   "id": "b8ccdd95",
   "metadata": {},
   "source": [
    "# Retraining and Evaluation with shap values"
   ]
  },
  {
   "cell_type": "markdown",
   "id": "b034f1c8",
   "metadata": {},
   "source": [
    "Decision tree"
   ]
  },
  {
   "cell_type": "code",
   "execution_count": null,
   "id": "d0d23b2f",
   "metadata": {},
   "outputs": [],
   "source": [
    "## retrain decision tree with top 10 features of decision tree\n",
    "train_inputDTC= train_input.drop(['age', 'time_in_hospital', 'num_procedures',\n",
    "       'number_outpatient', 'number_emergency', 'number_inpatient', 'max_glu_serum', 'A1Cresult','admission_source_id','number_diagnoses',], axis=1)\n",
    "X_train, X_test, y_train, y_test = train_test_split(train_inputDTC, train_output, test_size=0.20, random_state=0)\n",
    "dtc = DecisionTreeClassifier(max_depth=28, min_samples_split=10,random_state = 0)\n",
    "dtc.fit(X_train, y_train)\n",
    "dtc_pred = dtc.predict(X_test)\n",
    "\n",
    "#evaluate\n",
    "print(\"The Accuracy is \", accuracy_score(y_test, dtc_pred))\n",
    "print(\"The Classification report on the decision tree model is\" , classification_report(y_test, dtc_pred))\n",
    "cm =confusion_matrix(y_test,dtc_pred)\n",
    "plt.figure(figsize=(5,3), )\n",
    "sns.heatmap(cm,annot=True,fmt='g')\n",
    "y_score1 = dtc.predict_proba(X_test)[:,1]\n",
    "print(\"The ROC _AUC score for decision tree is: \", roc_auc_score(y_test, y_score1))\n",
    "fpr,tpr, threshold= roc_curve(y_test, y_score1)\n",
    "plt.subplots(1,figsize=(8,8))\n",
    "plt.title('ROC - decision tree (6 features)')\n",
    "plt.plot(fpr,tpr)\n",
    "plt.plot([0,1], ls=\"--\")\n",
    "plt.plot([0,0],[1,0], c=\".7\"),plt.plot([1,1],c =\".7\")\n",
    "plt.ylabel(\"True Positive Rate\")\n",
    "plt.xlabel(\"false Positive Rate\")\n",
    "plt.show()"
   ]
  },
  {
   "cell_type": "code",
   "execution_count": null,
   "id": "49c202da",
   "metadata": {},
   "outputs": [],
   "source": [
    "## retrain decision tree with top 6 features of decision tree\n",
    "train_inputDTC= train_input.drop(['age', 'time_in_hospital', 'num_procedures',\n",
    "       'number_outpatient', 'number_emergency', 'number_inpatient', 'max_glu_serum', 'A1Cresult','admission_source_id','number_diagnoses','num_medications','admission_type_id','num_lab_procedures','race',], axis=1)\n",
    "X_train, X_test, y_train, y_test = train_test_split(train_inputDTC, train_output, test_size=0.20)\n",
    "dtc = DecisionTreeClassifier(max_depth=28, min_samples_split=10, random_state=0)\n",
    "dtc.fit(X_train, y_train)\n",
    "dtc_pred = dtc.predict(X_test)\n",
    "\n",
    "#Evaluation for decisionTreeClassifier \n",
    "print(\"The Accuracy is \", accuracy_score(y_test, dtc_pred))\n",
    "print(\"The Classification report on the decision tree model is\" , classification_report(y_test, dtc_pred))\n",
    "cm =confusion_matrix(y_test,dtc_pred)\n",
    "plt.figure(figsize=(5,3), )\n",
    "sns.heatmap(cm,annot=True,fmt='g')\n",
    "y_score1 = dtc.predict_proba(X_test)[:,1]\n",
    "print(\"The ROC _AUC score for decision tree is: \", roc_auc_score(y_test, y_score1))\n",
    "fpr,tpr, threshold= roc_curve(y_test, y_score1)\n",
    "plt.subplots(1,figsize=(8,8))\n",
    "plt.title('ROC - decision tree(6 features)')\n",
    "plt.plot(fpr,tpr)\n",
    "plt.plot([0,1], ls=\"--\")\n",
    "plt.plot([0,0],[1,0], c=\".7\"),plt.plot([1,1],c =\".7\")\n",
    "plt.ylabel(\"True Positive Rate\")\n",
    "plt.xlabel(\"false Positive Rate\")\n",
    "plt.show()"
   ]
  },
  {
   "cell_type": "markdown",
   "id": "38efb891",
   "metadata": {},
   "source": [
    "Random Forest Classifier"
   ]
  },
  {
   "cell_type": "code",
   "execution_count": null,
   "id": "4e5cd15c",
   "metadata": {},
   "outputs": [],
   "source": [
    "# retrain random forest with top 10 features\n",
    "#Random forest top 10 features\n",
    "\n",
    "train_inputRFC= train_input.drop(['age', 'time_in_hospital', 'num_procedures',\n",
    "       'number_outpatient', 'number_emergency', 'number_inpatient', 'max_glu_serum', 'A1Cresult','num_medications','num_lab_procedures'], axis=1)\n",
    "X_train, X_test, y_train, y_test = train_test_split(train_inputRFC, train_output, test_size=0.20, random_state=0)\n",
    "#Random Forest Classifier\n",
    "from sklearn.ensemble import RandomForestClassifier\n",
    "rfc = RandomForestClassifier(n_estimators = 10, max_depth=25, min_samples_split=10, random_state = 10)\n",
    "rfc.fit(X_train, y_train)\n",
    "rfc_pred = rfc.predict(X_test)\n",
    "#evaluate\n",
    "print(\"The Accuracy is \", accuracy_score(y_test, rfc_pred))\n",
    "print(\"The Classification report on the random forest model is\" , classification_report(y_test, rfc_pred))\n",
    "cm =confusion_matrix(y_test,rfc_pred)\n",
    "plt.figure(figsize=(5,3), )\n",
    "sns.heatmap(cm,annot=True,fmt='g')\n",
    "\n",
    "\n",
    "y_score1 = rfc.predict_proba(X_test)[:,1]\n",
    "print(\"The ROC _AUC score for random forest is: \", roc_auc_score(y_test, y_score1))\n",
    "fpr,tpr, threshold= roc_curve(y_test, y_score1)\n",
    "plt.subplots(1,figsize=(8,8))\n",
    "plt.title('ROC - Random Forest Classifier (10 features)')\n",
    "plt.plot(fpr,tpr)\n",
    "plt.plot([0,1], ls=\"--\")\n",
    "plt.plot([0,0],[1,0], c=\".7\"),plt.plot([1,1],c =\".7\")\n",
    "plt.ylabel(\"True Positive Rate\")\n",
    "plt.xlabel(\"false Positive Rate\")\n",
    "plt.show()"
   ]
  },
  {
   "cell_type": "code",
   "execution_count": null,
   "id": "b97fcbc6",
   "metadata": {},
   "outputs": [],
   "source": [
    "#retrain Random Forest classifier with top 6 features\n",
    "train_inputRFC= train_input.drop(['age', 'time_in_hospital', 'num_procedures',\n",
    "       'number_outpatient', 'number_emergency', 'number_inpatient', 'max_glu_serum', 'A1Cresult','num_medications','num_lab_procedures','admission_source_id','number_diagnoses', 'admission_type_id','metformin'], axis=1)\n",
    "X_train, X_test, y_train, y_test = train_test_split(train_inputRFC, train_output, test_size=0.20, random_state=0)\n",
    "from sklearn.ensemble import RandomForestClassifier\n",
    "rfc = RandomForestClassifier(n_estimators = 10, max_depth=25, min_samples_split=10, random_state = 10)\n",
    "rfc.fit(X_train, y_train)\n",
    "rfc_pred = rfc.predict(X_test)\n",
    "print(\"The Accuracy is \", accuracy_score(y_test, rfc_pred))\n",
    "print(\"The Classification report on the random forest model is\" , classification_report(y_test, rfc_pred))\n",
    "cm =confusion_matrix(y_test,rfc_pred)\n",
    "plt.figure(figsize=(5,3), )\n",
    "sns.heatmap(cm,annot=True,fmt='g')\n",
    "\n",
    "#Evaluate\n",
    "y_score1 = rfc.predict_proba(X_test)[:,1]\n",
    "print(\"The ROC _AUC score for random forest is: \", roc_auc_score(y_test, y_score1))\n",
    "fpr,tpr, threshold= roc_curve(y_test, y_score1)\n",
    "plt.subplots(1,figsize=(8,8))\n",
    "plt.title('ROC - random forest(5 features)')\n",
    "plt.plot(fpr,tpr)\n",
    "plt.plot([0,1], ls=\"--\")\n",
    "plt.plot([0,0],[1,0], c=\".7\"),plt.plot([1,1],c =\".7\")\n",
    "plt.ylabel(\"True Positive Rate\")\n",
    "plt.xlabel(\"false Positive Rate\")\n",
    "plt.show()\n"
   ]
  },
  {
   "cell_type": "markdown",
   "id": "eae4aa62",
   "metadata": {},
   "source": [
    "gradient boosting classifier"
   ]
  },
  {
   "cell_type": "code",
   "execution_count": null,
   "id": "1d91054c",
   "metadata": {},
   "outputs": [],
   "source": [
    "#retrain gradient boosting classifier with top 10 features\n",
    "train_inputGBC= train_input.drop(['age', 'admission_source_id', 'time_in_hospital', 'num_procedures',\n",
    "       'number_outpatient', 'number_emergency', 'number_inpatient',\n",
    "       'number_diagnoses', 'max_glu_serum', 'A1Cresult'], axis=1)\n",
    "X_train, X_test, y_train, y_test = train_test_split(train_inputGBC, train_output, test_size=0.20, random_state=0)\n",
    "#GradientBoostingClassifiers\n",
    "gbc= GradientBoostingClassifier(n_estimators = 10, max_depth = 25, random_state = 10)\n",
    "gbc.fit(X_train,y_train)\n",
    "gbc_prd = gbc.predict(X_test)\n",
    "#Evaluation for gradientboostingclassifier\n",
    "print(\"The Accuracy is \", accuracy_score(y_test, gbc_prd))\n",
    "print(\"The Classification report on the gradient boosting classifier model is\" , classification_report(y_test, gbc_prd))\n",
    "cm =confusion_matrix(y_test,gbc_prd)\n",
    "plt.figure(figsize=(5,3), )\n",
    "sns.heatmap(cm,annot=True,fmt='g')\n",
    "\n",
    "y_score1 = gbc.predict_proba(X_test)[:,1]\n",
    "print(\"The ROC _AUC score for gradientboosting is: \", roc_auc_score(y_test, y_score1))\n",
    "fpr,tpr, threshold= roc_curve(y_test, y_score1)\n",
    "plt.subplots(1,figsize=(8,8))\n",
    "plt.title('ROC - gradient boosting(10 features)')\n",
    "plt.plot(fpr,tpr)\n",
    "plt.plot([0,1], ls=\"--\")\n",
    "plt.plot([0,0],[1,0], c=\".7\"),plt.plot([1,1],c =\".7\")\n",
    "plt.ylabel(\"True Positive Rate\")\n",
    "plt.xlabel(\"false Positive Rate\")\n",
    "plt.show()\n"
   ]
  },
  {
   "cell_type": "code",
   "execution_count": null,
   "id": "236e5313",
   "metadata": {},
   "outputs": [],
   "source": [
    "#retrain gradient boosting classifier with top 6 features\n",
    "train_inputGBC= train_input.drop(['age', 'admission_source_id', 'time_in_hospital', 'num_procedures',\n",
    "       'number_outpatient', 'number_emergency', 'number_inpatient',\n",
    "       'number_diagnoses', 'max_glu_serum', 'A1Cresult','num_medications','admission_type_id','race','num_lab_procedures'], axis=1)\n",
    "\n",
    "X_train, X_test, y_train, y_test = train_test_split(train_inputGBC, train_output, test_size=0.20, random_state=0)\n",
    "gbc= GradientBoostingClassifier(n_estimators = 10, max_depth = 25, random_state = 10)\n",
    "gbc.fit(X_train,y_train)\n",
    "gbc_prd = gbc.predict(X_test)\n",
    "#Evaluation for gradientboostingclassifier\n",
    "print(\"The Accuracy is \", accuracy_score(y_test, gbc_prd))\n",
    "print(\"The Classification report on the gradient boosting model is\" , classification_report(y_test, gbc_prd))\n",
    "cm =confusion_matrix(y_test,gbc_prd)\n",
    "plt.figure(figsize=(5,3), )\n",
    "sns.heatmap(cm,annot=True,fmt='g')\n",
    "\n",
    "y_score1 = gbc.predict_proba(X_test)[:,1]\n",
    "print(\"The ROC _AUC score for gradient boosting is: \", roc_auc_score(y_test, y_score1))\n",
    "fpr,tpr, threshold= roc_curve(y_test, y_score1)\n",
    "plt.subplots(1,figsize=(8,8))\n",
    "plt.title('ROC - gradient boosting(6 features)')\n",
    "plt.plot(fpr,tpr)\n",
    "plt.plot([0,1], ls=\"--\")\n",
    "plt.plot([0,0],[1,0], c=\".7\"),plt.plot([1,1],c =\".7\")\n",
    "plt.ylabel(\"True Positive Rate\")\n",
    "plt.xlabel(\"false Positive Rate\")\n",
    "plt.show()"
   ]
  },
  {
   "cell_type": "markdown",
   "id": "5385c20a",
   "metadata": {},
   "source": [
    "XGB CLASSIFIER"
   ]
  },
  {
   "cell_type": "code",
   "execution_count": null,
   "id": "f0f4467c",
   "metadata": {},
   "outputs": [],
   "source": [
    "train_input2 = train_input"
   ]
  },
  {
   "cell_type": "code",
   "execution_count": null,
   "id": "6277463d",
   "metadata": {},
   "outputs": [],
   "source": [
    "#TRANSFORM FEATURES TO INTEGERS AS REQUIRED BY XGBOOST\n",
    "lbl = LabelEncoder()\n",
    "train_input2['gender'] = lbl.fit_transform(train_input2['gender'].astype(int))\n",
    "train_input2['age'] = lbl.fit_transform(train_input2['age'].astype(str))\n",
    "train_input2['admission_type_id'] = lbl.fit_transform(train_input2['admission_type_id'].astype(str))\n",
    "train_input2['discharge_disposition_id'] = lbl.fit_transform(train_input2['discharge_disposition_id'].astype(str))\n",
    "train_input2['admission_source_id'] = lbl.fit_transform(train_input2['admission_source_id'].astype(str))\n",
    "train_input2['max_glu_serum'] = lbl.fit_transform(train_input2['max_glu_serum'].astype(str))\n",
    "train_input2['A1Cresult'] = lbl.fit_transform(train_input2['A1Cresult'].astype(str))\n",
    "train_input2['metformin'] = lbl.fit_transform(train_input2['metformin'].astype(str))\n",
    "train_input2['insulin'] = lbl.fit_transform(train_input2['insulin'].astype(str))\n",
    "train_input2['change'] = lbl.fit_transform(train_input2['change'].astype(str))\n",
    "train_input2['diabetesMed'] = lbl.fit_transform(train_input2['diabetesMed'].astype(str))\n",
    "train_input2['race'] = lbl.fit_transform(train_input2['race'].astype(str))\n",
    "\n",
    "print(train_input2.dtypes)\n"
   ]
  },
  {
   "cell_type": "code",
   "execution_count": null,
   "id": "25865b06",
   "metadata": {},
   "outputs": [],
   "source": [
    "#split new dataset \n",
    "X_train2, X_test2, y_train2, y_test2 = train_test_split(train_input2, train_output, test_size=0.20, random_state=0)"
   ]
  },
  {
   "cell_type": "code",
   "execution_count": null,
   "id": "4e2ac8fa",
   "metadata": {},
   "outputs": [],
   "source": [
    "xgb= XGBClassifier(n_estimators = 10, max_depth = 25, random_state = 10) \n",
    "xgb.fit(X_train2,y_train2) \n",
    "xgb_prd = xgb.predict(X_test2) \n",
    "print(classification_report(y_test2, xgb_prd))\n",
    "cm = confusion_matrix(y_test2, xgb_prd)\n",
    "plt.figure(figsize=(5,3), )\n",
    "sns.heatmap(cm,annot=True,fmt='g')\n",
    "\n",
    "y_score1 = xgb.predict_proba(X_test2)[:,1]\n",
    "print(\"The ROC _AUC score for XGBoost is: \", roc_auc_score(y_test2, y_score1))\n",
    "fpr,tpr, threshold= roc_curve(y_test2, y_score1)\n",
    "plt.subplots(1,figsize=(8,8))\n",
    "plt.title('ROC - XGB')\n",
    "plt.plot(fpr,tpr)\n",
    "plt.plot([0,1], ls=\"--\")\n",
    "plt.plot([0,0],[1,0], c=\".7\"),plt.plot([1,1],c =\".7\")\n",
    "plt.ylabel(\"True Positive Rate\")\n",
    "plt.xlabel(\"false Positive Rate\")\n",
    "plt.show()"
   ]
  },
  {
   "cell_type": "code",
   "execution_count": null,
   "id": "e67b78e4",
   "metadata": {},
   "outputs": [],
   "source": [
    "#print xgboost shap values\n",
    "explainer = shap.TreeExplainer(xgb)\n",
    "shap_values = explainer.shap_values(X_train2)\n",
    "shap.summary_plot(shap_values, features = X_train2, feature_names = X_train.columns, plot_type =\"bar\")"
   ]
  },
  {
   "cell_type": "code",
   "execution_count": null,
   "id": "c362fcc0",
   "metadata": {},
   "outputs": [],
   "source": [
    "#Feature importance for xgboost using gini importance\n",
    "feature_names = X_train2.columns\n",
    "feature_imports = xgb.feature_importances_\n",
    "most_imp_features = pd.DataFrame([f for f in zip(feature_names,feature_imports)], columns=[\"Feature\", \"Importance\"])\n",
    "most_imp_features.sort_values(by=\"Importance\", inplace=True)\n",
    "plt.figure(figsize=(10,6))\n",
    "plt.barh(range(len(most_imp_features)), most_imp_features.Importance, align='center', alpha=0.8)\n",
    "plt.yticks(range(len(most_imp_features)), most_imp_features.Feature, fontsize=14)\n",
    "plt.xlabel('Importance')\n",
    "plt.title('Most important features - XGBoost ')\n",
    "plt.show()"
   ]
  },
  {
   "cell_type": "markdown",
   "id": "53d0ec8b",
   "metadata": {},
   "source": [
    "re-evaluation with gini importance"
   ]
  },
  {
   "cell_type": "code",
   "execution_count": null,
   "id": "0f6b8a01",
   "metadata": {},
   "outputs": [],
   "source": [
    "#retrain with top 10 features\n",
    "train_input3 = train_input2.drop(['age', 'admission_source_id', 'time_in_hospital', 'num_procedures',\n",
    "       'number_outpatient', 'number_emergency', 'number_inpatient',\n",
    "       'number_diagnoses', 'num_medications','num_lab_procedures'], axis=1)\n",
    "\n",
    "X_train2, X_test2, y_train2, y_test2 = train_test_split(train_input3, train_output, test_size=0.20, random_state=0)\n",
    "\n",
    "xgb= XGBClassifier(n_estimators = 10, max_depth = 25, random_state = 10) \n",
    "xgb.fit(X_train2,y_train2) \n",
    "xgb_prd = xgb.predict(X_test2)\n",
    "print(classification_report(y_test2, xgb_prd))\n",
    "cm = confusion_matrix(y_test2, xgb_prd)\n",
    "plt.figure(figsize=(5,3), )\n",
    "sns.heatmap(cm,annot=True,fmt='g')\n",
    "            \n",
    "y_score1 = xgb.predict_proba(X_test2)[:,1]\n",
    "print(\"The ROC _AUC score for XGBoost is: \", roc_auc_score(y_test2, y_score1))\n",
    "fpr,tpr, threshold= roc_curve(y_test2, y_score1)\n",
    "plt.subplots(1,figsize=(8,8))\n",
    "plt.title('ROC - XGBoost')\n",
    "plt.plot(fpr,tpr)\n",
    "plt.plot([0,1], ls=\"--\")\n",
    "plt.plot([0,0],[1,0], c=\".7\"),plt.plot([1,1],c =\".7\")\n",
    "plt.ylabel(\"True Positive Rate\")\n",
    "plt.xlabel(\"false Positive Rate\")\n",
    "plt.show()"
   ]
  },
  {
   "cell_type": "code",
   "execution_count": null,
   "id": "fc5dc414",
   "metadata": {},
   "outputs": [],
   "source": [
    "# retrain with top 6 features\n",
    "train_input4 = train_input2.drop(['age', 'admission_source_id', 'time_in_hospital', 'num_procedures',\n",
    "       'number_outpatient', 'number_emergency', 'number_inpatient','num_medications',\n",
    "       'number_diagnoses', 'max_glu_serum', 'A1Cresult',\"gender\",'num_lab_procedures', 'admission_type_id'], axis=1)\n",
    "X_train2, X_test2, y_train2, y_test2 = train_test_split(train_input4, train_output, test_size=0.20, random_state=0)\n",
    "xgb= XGBClassifier(n_estimators = 10, max_depth = 25, random_state = 10) \n",
    "xgb.fit(X_train2,y_train2) \n",
    "xgb_prd = xgb.predict(X_test2) \n",
    "print(classification_report(y_test2, xgb_prd))\n",
    "cm = confusion_matrix(y_test2, xgb_prd)\n",
    "plt.figure(figsize=(5,3), )\n",
    "sns.heatmap(cm,annot=True,fmt='g')\n",
    "y_score1 = xgb.predict_proba(X_test2)[:,1]\n",
    "print(\"The ROC _AUC score for XGBoost is: \", roc_auc_score(y_test2, y_score1))\n",
    "fpr,tpr, threshold= roc_curve(y_test2, y_score1)\n",
    "plt.subplots(1,figsize=(8,8))\n",
    "plt.title('ROC - XGBoost')\n",
    "plt.plot(fpr,tpr)\n",
    "plt.plot([0,1], ls=\"--\")\n",
    "plt.plot([0,0],[1,0], c=\".7\"),plt.plot([1,1],c =\".7\")\n",
    "plt.ylabel(\"True Positive Rate\")\n",
    "plt.xlabel(\"false Positive Rate\")\n",
    "plt.show()"
   ]
  },
  {
   "cell_type": "markdown",
   "id": "48aa085f",
   "metadata": {},
   "source": [
    "re-evaluation with shap values"
   ]
  },
  {
   "cell_type": "code",
   "execution_count": null,
   "id": "d6d180e9",
   "metadata": {},
   "outputs": [],
   "source": [
    "#retrain with top 10 features\n",
    "train_input3 = train_input2.drop(['age', 'admission_source_id', 'time_in_hospital', 'num_procedures',\n",
    "       'number_outpatient', 'number_emergency', 'number_inpatient',\n",
    "       'number_diagnoses', 'max_glu_serum', 'A1Cresult'], axis=1)\n",
    "\n",
    "X_train2, X_test2, y_train2, y_test2 = train_test_split(train_input3, train_output, test_size=0.20, random_state=0)\n",
    "\n",
    "xgb= XGBClassifier(n_estimators = 10, max_depth = 25, random_state = 10) \n",
    "xgb.fit(X_train2,y_train2) \n",
    "xgb_prd = xgb.predict(X_test2)\n",
    "print(classification_report(y_test2, xgb_prd))\n",
    "cm = confusion_matrix(y_test2, xgb_prd)\n",
    "plt.figure(figsize=(5,3), )\n",
    "sns.heatmap(cm,annot=True,fmt='g')\n",
    "            \n",
    "y_score1 = xgb.predict_proba(X_test2)[:,1]\n",
    "print(\"The ROC _AUC score for XGBoost is: \", roc_auc_score(y_test2, y_score1))\n",
    "fpr,tpr, threshold= roc_curve(y_test2, y_score1)\n",
    "plt.subplots(1,figsize=(8,8))\n",
    "plt.title('ROC - XGBoost')\n",
    "plt.plot(fpr,tpr)\n",
    "plt.plot([0,1], ls=\"--\")\n",
    "plt.plot([0,0],[1,0], c=\".7\"),plt.plot([1,1],c =\".7\")\n",
    "plt.ylabel(\"True Positive Rate\")\n",
    "plt.xlabel(\"false Positive Rate\")\n",
    "plt.show()"
   ]
  },
  {
   "cell_type": "code",
   "execution_count": null,
   "id": "5002ecdd",
   "metadata": {},
   "outputs": [],
   "source": [
    "# retrain with top 6 features\n",
    "train_input4 = train_input2.drop(['age', 'admission_source_id', 'time_in_hospital', 'num_procedures',\n",
    "       'number_outpatient', 'number_emergency', 'number_inpatient','num_medications',\n",
    "       'number_diagnoses', 'max_glu_serum', 'A1Cresult',\"gender\",'num_lab_procedures', 'admission_type_id'], axis=1)\n",
    "X_train2, X_test2, y_train2, y_test2 = train_test_split(train_input4, train_output, test_size=0.20, random_state=0)\n",
    "xgb= XGBClassifier(n_estimators = 10, max_depth = 25, random_state = 10) \n",
    "xgb.fit(X_train2,y_train2) \n",
    "xgb_prd = xgb.predict(X_test2) \n",
    "\n",
    "print(classification_report(y_test2, xgb_prd))\n",
    "cm = confusion_matrix(y_test2, xgb_prd)\n",
    "plt.figure(figsize=(5,3), )\n",
    "sns.heatmap(cm,annot=True,fmt='g')\n",
    "y_score1 = xgb.predict_proba(X_test2)[:,1]\n",
    "print(\"The ROC _AUC score for XGBoost is: \", roc_auc_score(y_test2, y_score1))\n",
    "fpr,tpr, threshold= roc_curve(y_test2, y_score1)\n",
    "plt.subplots(1,figsize=(8,8))\n",
    "plt.title('ROC - XGBoost')\n",
    "plt.plot(fpr,tpr)\n",
    "plt.plot([0,1], ls=\"--\")\n",
    "plt.plot([0,0],[1,0], c=\".7\"),plt.plot([1,1],c =\".7\")\n",
    "plt.ylabel(\"True Positive Rate\")\n",
    "plt.xlabel(\"false Positive Rate\")\n",
    "plt.show()"
   ]
  }
 ],
 "metadata": {
  "kernelspec": {
   "display_name": "Python 3",
   "language": "python",
   "name": "python3"
  },
  "language_info": {
   "codemirror_mode": {
    "name": "ipython",
    "version": 3
   },
   "file_extension": ".py",
   "mimetype": "text/x-python",
   "name": "python",
   "nbconvert_exporter": "python",
   "pygments_lexer": "ipython3",
   "version": "3.8.8"
  }
 },
 "nbformat": 4,
 "nbformat_minor": 5
}
